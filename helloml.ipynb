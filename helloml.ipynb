{
  "nbformat": 4,
  "nbformat_minor": 0,
  "metadata": {
    "colab": {
      "provenance": [],
      "authorship_tag": "ABX9TyO+yrKaFbK/Ygc0LZNHbXY9",
      "include_colab_link": true
    },
    "kernelspec": {
      "name": "python3",
      "display_name": "Python 3"
    },
    "language_info": {
      "name": "python"
    }
  },
  "cells": [
    {
      "cell_type": "markdown",
      "metadata": {
        "id": "view-in-github",
        "colab_type": "text"
      },
      "source": [
        "<a href=\"https://colab.research.google.com/github/kebora/machine-learning/blob/main/helloml.ipynb\" target=\"_parent\"><img src=\"https://colab.research.google.com/assets/colab-badge.svg\" alt=\"Open In Colab\"/></a>"
      ]
    },
    {
      "cell_type": "code",
      "execution_count": 1,
      "metadata": {
        "id": "SSokc021JHza"
      },
      "outputs": [],
      "source": [
        "#this is the first notebook of many on ml with python"
      ]
    },
    {
      "cell_type": "code",
      "source": [
        "print(\"hello python!\")"
      ],
      "metadata": {
        "colab": {
          "base_uri": "https://localhost:8080/"
        },
        "id": "jkOD-Q4tJjuP",
        "outputId": "34b18c09-3da2-4925-dbf9-15fdb037fc8e"
      },
      "execution_count": 2,
      "outputs": [
        {
          "output_type": "stream",
          "name": "stdout",
          "text": [
            "hello python!\n"
          ]
        }
      ]
    },
    {
      "cell_type": "code",
      "source": [
        "#this will be uploaded as is to github!"
      ],
      "metadata": {
        "id": "p5yA5qpuJq-R"
      },
      "execution_count": 3,
      "outputs": []
    }
  ]
}