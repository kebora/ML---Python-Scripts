{
  "nbformat": 4,
  "nbformat_minor": 0,
  "metadata": {
    "colab": {
      "provenance": []
    },
    "kernelspec": {
      "name": "python3",
      "display_name": "Python 3"
    },
    "language_info": {
      "name": "python"
    }
  },
  "cells": [
    {
      "cell_type": "code",
      "execution_count": 1,
      "metadata": {
        "colab": {
          "base_uri": "https://localhost:8080/"
        },
        "id": "8Ss4Uf_aKSSB",
        "outputId": "8cc1dfb5-01b6-423d-c9f7-42800790921c"
      },
      "outputs": [
        {
          "output_type": "stream",
          "name": "stderr",
          "text": [
            "WARNING:absl:Compiled the loaded model, but the compiled metrics have yet to be built. `model.compile_metrics` will be empty until you train or evaluate the model.\n"
          ]
        },
        {
          "output_type": "stream",
          "name": "stdout",
          "text": [
            "Saved artifact at '/tmp/tmp0uqqec54'. The following endpoints are available:\n",
            "\n",
            "* Endpoint 'serve'\n",
            "  args_0 (POSITIONAL_ONLY): TensorSpec(shape=(None, 64, 64, 3), dtype=tf.float32, name='input_layer')\n",
            "Output Type:\n",
            "  TensorSpec(shape=(None, 10), dtype=tf.float32, name=None)\n",
            "Captures:\n",
            "  133251991010496: TensorSpec(shape=(), dtype=tf.resource, name=None)\n",
            "  133251991260144: TensorSpec(shape=(), dtype=tf.resource, name=None)\n",
            "  133251991271232: TensorSpec(shape=(), dtype=tf.resource, name=None)\n",
            "  133251991266128: TensorSpec(shape=(), dtype=tf.resource, name=None)\n",
            "  133251879658320: TensorSpec(shape=(), dtype=tf.resource, name=None)\n",
            "  133251879660608: TensorSpec(shape=(), dtype=tf.resource, name=None)\n",
            "  133251879879952: TensorSpec(shape=(), dtype=tf.resource, name=None)\n",
            "  133251879882240: TensorSpec(shape=(), dtype=tf.resource, name=None)\n",
            "  133251879885232: TensorSpec(shape=(), dtype=tf.resource, name=None)\n",
            "  133251879889456: TensorSpec(shape=(), dtype=tf.resource, name=None)\n",
            "TFLite model saved to: model.tflite\n"
          ]
        }
      ],
      "source": [
        "# Convert Keras model to TensorFlow Lite\n",
        "\n",
        "import tensorflow as tf\n",
        "\n",
        "# Load Keras model\n",
        "model = tf.keras.models.load_model('/content/hand_gesture_model.h5')\n",
        "\n",
        "# Convert the model to TFLite format\n",
        "converter = tf.lite.TFLiteConverter.from_keras_model(model)\n",
        "tflite_model = converter.convert()\n",
        "\n",
        "# Save the converted model\n",
        "tflite_model_path = 'model.tflite'\n",
        "with open(tflite_model_path, 'wb') as f:\n",
        "    f.write(tflite_model)\n",
        "\n",
        "print(f'TFLite model saved to: {tflite_model_path}')\n"
      ]
    }
  ]
}