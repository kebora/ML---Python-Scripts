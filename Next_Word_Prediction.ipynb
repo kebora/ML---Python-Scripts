{
 "cells": [
  {
   "cell_type": "code",
   "execution_count": 125,
   "metadata": {
    "id": "HTJE-2N3eiNa"
   },
   "outputs": [],
   "source": [
    "#!python -m spacy download en_core_web_md"
   ]
  },
  {
   "cell_type": "code",
   "execution_count": 126,
   "metadata": {
    "id": "jLbzhwDjeyMl"
   },
   "outputs": [],
   "source": [
    "#import spacy"
   ]
  },
  {
   "cell_type": "code",
   "execution_count": 127,
   "metadata": {
    "id": "YN02YGa2ep96"
   },
   "outputs": [],
   "source": [
    "#embedding_file=spacy.load('en_core_web_md')"
   ]
  },
  {
   "cell_type": "code",
   "execution_count": 128,
   "metadata": {
    "id": "P27Q6hWqe6Pg"
   },
   "outputs": [],
   "source": [
    "#embedding_file('like').vector"
   ]
  },
  {
   "cell_type": "code",
   "execution_count": 129,
   "metadata": {
    "id": "zCEN0H6dy9eJ"
   },
   "outputs": [],
   "source": [
    "from sklearn.feature_extraction.text import TfidfVectorizer\n",
    "from nltk.tokenize import word_tokenize,sent_tokenize\n",
    "from sklearn.decomposition import PCA\n",
    "from sklearn.metrics import accuracy_score\n",
    "from sklearn.model_selection import train_test_split"
   ]
  },
  {
   "cell_type": "code",
   "execution_count": 130,
   "metadata": {
    "id": "YTSh_eoizBWc"
   },
   "outputs": [],
   "source": [
    "#from nlp import load_dataset\n",
    "from nltk.tokenize import word_tokenize,sent_tokenize"
   ]
  },
  {
   "cell_type": "code",
   "execution_count": 131,
   "metadata": {
    "id": "of3vD6f2jDP6"
   },
   "outputs": [],
   "source": [
    "import numpy as np\n",
    "import tensorflow as tf"
   ]
  },
  {
   "cell_type": "code",
   "execution_count": 132,
   "metadata": {
    "id": "hTZVjvO12J0v"
   },
   "outputs": [],
   "source": [
    "import nltk\n",
    "import math\n",
    "import json\n",
    "import tensorflow_hub as hub\n",
    "import spacy"
   ]
  },
  {
   "cell_type": "code",
   "execution_count": 133,
   "metadata": {
    "colab": {
     "base_uri": "https://localhost:8080/"
    },
    "id": "nv3_5zVS14KO",
    "outputId": "f1789dca-65c3-45bc-96fb-48c6ace4133d"
   },
   "outputs": [
    {
     "name": "stderr",
     "output_type": "stream",
     "text": [
      "[nltk_data] Downloading package punkt to\n",
      "[nltk_data]     C:\\Users\\user\\AppData\\Roaming\\nltk_data...\n",
      "[nltk_data]   Package punkt is already up-to-date!\n"
     ]
    },
    {
     "data": {
      "text/plain": [
       "True"
      ]
     },
     "execution_count": 133,
     "metadata": {},
     "output_type": "execute_result"
    }
   ],
   "source": [
    "nltk.download('punkt')\n",
    "#nltk.download('gutenberg')"
   ]
  },
  {
   "cell_type": "code",
   "execution_count": 134,
   "metadata": {
    "id": "DOB779cVjGy2"
   },
   "outputs": [],
   "source": [
    "from tensorflow.keras.layers import SimpleRNN,GRU,LSTM,Dense,Embedding,InputLayer,Input\n",
    "from tensorflow.keras.optimizers import Adam\n",
    "from tensorflow.keras.metrics import CategoricalCrossentropy\n",
    "from tensorflow.keras.losses import CategoricalCrossentropy,categorical_crossentropy\n",
    "from tensorflow.keras import Model\n",
    "from tensorflow.keras.preprocessing.text import Tokenizer\n",
    "from tensorflow.keras.preprocessing.sequence import pad_sequences\n",
    "from nltk.corpus import gutenberg"
   ]
  },
  {
   "cell_type": "code",
   "execution_count": 135,
   "metadata": {
    "id": "-G32UEhg0mP9"
   },
   "outputs": [],
   "source": [
    "data=open(\"C:/Users/user/Downloads/corpus.txt\")\n",
    "data=data.read()"
   ]
  },
  {
   "cell_type": "code",
   "execution_count": 136,
   "metadata": {
    "id": "rjRi8aL1aB40"
   },
   "outputs": [],
   "source": [
    "#data=gutenberg.raw(fileids='austen-emma.txt')"
   ]
  },
  {
   "cell_type": "code",
   "execution_count": 137,
   "metadata": {
    "id": "JxzWLbrNT-bk"
   },
   "outputs": [
    {
     "data": {
      "text/plain": [
       "\"Much more reproductive choice is now available to women, with the ability to chose whether or not to have children, when to have them and in what context, now a reproductive right given to women. This, combined with shifting social and economic opportunities for women, has lead to an increase in the number of childless women, with, in 1991, twice as many saying that they expected to remain childless as in 1986 (Gillespie, 2001). However the anticipated number of children per woman in Europe and the USA is still near or above two (Bongaarts, 1999), showing that many are still having children. In this essay I will explore why women have children, even though there is now more opportunity for them not to, and why those who do not have children do not do so. I will begin by looking at why women do have children, exploring the idea of push and pull in the decision, introduced by Morrell (1994), looking at factors identified as 'pulling' women into motherhood; psychological, social and economic factors, as well as looking at the influences of 'push' factors such as national discourses on motherhood and social policy. I will then examine why women do not have children or remain, as Gillespie describes, as voluntarily childless, (2001), considering the influence of personal, social and economic factors, and changing opportunities for women. In considering all of these influences on why women do or do not have children I will look at how they all work together to form a complex process, not just a simple decision. Morrell argues that women do not choose to have children only because it is something that they would like to experience and are attracted to, but also because they are almost forced into it by national discourses on motherhood and social policies, illustrated when she says; 'women are not only pulled to mothering, women are pushed in this direction in part by cultural representations of both motherhood and childlessness' (1994, p145). This means that a complex combination of personal choices and cultural influences combine in women's decisions to have children. Many personal reasons for women having children have been identified. The society in which we now live is disaggregated and lonely, and it is argued that women may want children to compensate for this (Andorka, 1978), as they are seen by many as a constant source of love and affection, and are usually totally dependant upon their parents. This idea is supported by Coldwell, who says; 'one's own children provide a unique pleasure which is not substitutable' (1982, cited in Schoen et al, 1997, p335), showing that many women chose to have children for the unique personal rewards that they carry. It is also argued that children are a source of self expansion, enabling women to feel they are moral and altruistic people for producing them (Hoffman and Hoffman, 1973, cited in Andorka, 1978, p338), and that they are a way of reproducing ones self and ensuring ones characteristics remain, an influence becoming perhaps more important as life after death is no longer considered a reality (Gittins, 1993). However as well as personal factors attracting women to motherhood, economic and social factors may also be influential. Lancaster has argued that children do provide some economic profit, as they can be a way of claiming higher benefits and gaining access to housing, (1965, cited in Andorka, 1978, p364). However it is now felt that economic factors do not influence the decision as much as in previous times, as women are no longer economically dependant upon men, and children are not needed to provide a source of income. Instead social factors have more of an input. Coleman claims that children are a form of 'social capital' (1988, cited in Schoen et al, 1997, p337), as they provide women with social benefits that they might not otherwise have, and this gain can influence the decision to have children. Having children can mean the development of social relationships that can be beneficial to women, and ensure higher standings within a social network (Schoen et al, 1997). Becoming a parent signals adult status has been reached, and this can result in acceptance into certain prestigious social groups, or the chance for social mobility (Hoffman and Hoffman, 1973, cited in Andorka, 1978, p338), for example some workplaces reward workers who have children as they are seen as mature and responsible. Although this is more applicable to male workers, it can mean that if a man is given promotion the whole family will be seen differently by society. It is also suggested that having children can produce better social relationships with kin networks, meaning more physical, emotional and financial support that may not otherwise have been achieved (Schoen et al, 1997). Having children can also provide women specifically with a higher status in society, as mothers are glorified (McDaniel, 1996), and many women may wish to be regarded highly by society. It is also argued that children can give women more power in the domestic sphere, as nurturing is seen as naturally linked to women, so they are given control over this area (Gittins, 1993), and therefore see it as a way of gaining more power within domestic relationships. Security is another form of social capital that can be created by having children. As well as being a source of security in the form of constant love, they can also provide social and financial security, especially in old age. Morrell found that many women feared old age, as women are now living longer than men (1994) and this fear can mean that women choose to have children to ensure their security, therefore making them an important social resource. These more individual and personal reasons that influence the choice of women to have children often combine in a complex way, however they are not the only factors that affect the decision. National discourses on motherhood and social policy have subtle influences that provide a background on which the more explicit influences of personal fulfilment and economic and social benefits are established. Patriarchal ideology prescribes particular behaviour for marriage and reproduction; the idea that marriage is based upon heterosexual relationships and that having children is the next natural step (Gittins, 1993), meaning that many women see getting married and having children as a natural progression through life, even in modern society. This is reinforced by strong historical discourses that link femininity with motherhood, claiming that 'true womanhood' is not reached unless women have children, or see having children as their biological and ideological goals (McDaniel, 1996). Culture dictates that it is natural for women to be mothers, and prescribes the number of children that is seen as respectable within our society (Schneider and Schneider, 1995, cited in Schoen et al, 1997, p335). Religious, political and scientific leaders stress that it is only through motherhood that women can be fulfilled, and Gillespie supports this, highlighting the way in which motherhood is seen as natural in modern society; 'the idea that motherhood is essentialist, deterministic, fixed, inevitably fulfilling and central to feminine identity is firmly entrenched in industrial, urban and rural societies' (2001, p141). This discourse, as well as placing motherhood as natural and essential for defining women, also ensures that women in society without children, both voluntarily and involuntarily, are seen as failed and not proper women. Culture also dictates that those who do not have children are selfish and immoral (Gillespie, 2001), and motherhood is seen as a signifier of normality (Morrell, 1994). Women feel that they should fit in with what is 'normal and natural', meaning that they chose to have children. These ideas are evident in social policy. As the nation relies on reproduction for its continuation, the state has much interest in levels of fertility and tries to encourage women to reproduce. This is done by reinforcing the discourses of motherhood as natural, and through more explicit social policy. This is evident in the USA where abortion and contraception are closely controlled by the state to ensure that women consider having children as important (McDaniel, 1996). These discourses in society influence the more personal factors that are involved on the decision to become a mother, as they promote the idea that children are a natural progression for women and their main source of happiness. Therefore many women feel that they should have children as it will make them happy, and see it as natural in order for them to fulfil their role in society, and gain status, as society attributes status to women through motherhood in these discourses. Consequently these cultural ideas running through society influence and combine with personal, economic and social factors to create a complex combination of reasons as to why women have children. However, despite these dominant discourses in society not all women have children. Although this may be down to infertility in some cases, I will be looking at the issue of voluntary childlessness, where women choose not to have children, rather than being unable to. As with the decision to have children, there are many personal, economic and social reasons why some women choose childlessness. Some women simply do not like children (Gillespie, 2000), or fear the effects that having a child will have upon their figure. Others may feel that due to crime and poverty the world now is not a suitable place to bring up children, or that the conditions of the town in which they live, for example lack of space, are not equitable to having children (Andorka, 1978). Children are also a significant emotional responsibility and some women may feel they do not wish to take this on, or may already have carried such a responsibility, either for siblings or parents and not want to endure it again (Gillespie, 2000). There is also the influence of economic factors to consider. Children are no longer economic assets, but are in fact very financially costly, and many women may decide they cannot afford to have children (Schoen et al, 1997). Fears about economic security have lead to more women deciding that children are not a viable option, and that the financial burden is too high a price to pay. Aspirations for certain standards of living may also influence the decision as some will feel that the cost of children would not fit in with the lifestyle they wish to have (Andorka, 1978). This links quite closely to social factors, as a desired lifestyle can be quite important when considering whether or not to have children. Opportunities other than motherhood are now open to women, especially in economic structures, and some women choose to explore these opportunities, rather than experience motherhood. Women's increasing participation in employment means that they are able to develop careers of their own, and many feel that they gain their identity from paid work and do not want to lose this by having children (Gillespie, 2001). Women now wish to have interests separate from the domestic sphere, and some may believe that having children places restrictions on the possibilities for this sort of lifestyle. Morrell describes it as a desire for 'freedom from and freedom to', where women wish to have freedom from the ties, both financially and emotionally, of being mothers, but also want the freedom to experience a different lifestyle, with flexibility and no guilt. She also found that many did not like the context under which motherhood was supposed to take place, feeling that it would enforce a break from paid employment, therefore economic dependence, and confinement to the home ensuring a sexual division of labour (1994). These desires for a lifestyle that does not involve children have been made possible by small changes in employment structures, which mean that women can now have a career, and the emergence of discourses, albeit not mainstream ones which allow women greater sexual freedom. Gillespie describes this as 'the post-modern model of reproduction', in which social forces have impacted upon motherhood, meaning that that it is becoming disaggregated with the natural (2001), so motherhood is no longer seen as synonymous with femininity. This shows that as well as there being personal, economic and social factors influencing the decision not to have children, changes in employment structures and new discourses emerging on motherhood and reproduction mean that these factors are possible in modern society. Therefore it is a complex combination of social ideals and personal responses that results in women becoming voluntarily childless. Overall this shows that there are many complex influences upon the decision of whether or not have children. In the decision to have children discourses on motherhood and reproduction create the ideal that motherhood is both natural and fulfilling for women, and this impacts upon personal, economic and social factors, including security, happiness and social capital, that lead to women choosing to have children. The same idea can be seen in the decision not to have children, as changing opportunities for women, and emerging discourses are making it possible for women to decide that for personal, economic and social reasons, for example lifestyle choices, they wish to remain childless. In conclusion why women do or do not have children is a complex process influenced by many factors, and based upon a variety of discourses and opportunities ingrained within society, not simply whether or not a woman likes children. \""
      ]
     },
     "execution_count": 137,
     "metadata": {},
     "output_type": "execute_result"
    }
   ],
   "source": [
    "data"
   ]
  },
  {
   "cell_type": "code",
   "execution_count": 138,
   "metadata": {
    "id": "L4R4V4h1-Vyo"
   },
   "outputs": [],
   "source": [
    "corpus_list=[]\n",
    "corpus=sent_tokenize(data)\n",
    "for sent in corpus:\n",
    "  corpus_list.append([sent])"
   ]
  },
  {
   "cell_type": "code",
   "execution_count": 139,
   "metadata": {
    "id": "pv-sWlN5rlq8"
   },
   "outputs": [
    {
     "data": {
      "text/plain": [
       "['Much more reproductive choice is now available to women, with the ability to chose whether or not to have children, when to have them and in what context, now a reproductive right given to women.',\n",
       " 'This, combined with shifting social and economic opportunities for women, has lead to an increase in the number of childless women, with, in 1991, twice as many saying that they expected to remain childless as in 1986 (Gillespie, 2001).',\n",
       " 'However the anticipated number of children per woman in Europe and the USA is still near or above two (Bongaarts, 1999), showing that many are still having children.',\n",
       " 'In this essay I will explore why women have children, even though there is now more opportunity for them not to, and why those who do not have children do not do so.',\n",
       " \"I will begin by looking at why women do have children, exploring the idea of push and pull in the decision, introduced by Morrell (1994), looking at factors identified as 'pulling' women into motherhood; psychological, social and economic factors, as well as looking at the influences of 'push' factors such as national discourses on motherhood and social policy.\",\n",
       " 'I will then examine why women do not have children or remain, as Gillespie describes, as voluntarily childless, (2001), considering the influence of personal, social and economic factors, and changing opportunities for women.',\n",
       " 'In considering all of these influences on why women do or do not have children I will look at how they all work together to form a complex process, not just a simple decision.',\n",
       " \"Morrell argues that women do not choose to have children only because it is something that they would like to experience and are attracted to, but also because they are almost forced into it by national discourses on motherhood and social policies, illustrated when she says; 'women are not only pulled to mothering, women are pushed in this direction in part by cultural representations of both motherhood and childlessness' (1994, p145).\",\n",
       " \"This means that a complex combination of personal choices and cultural influences combine in women's decisions to have children.\",\n",
       " 'Many personal reasons for women having children have been identified.',\n",
       " 'The society in which we now live is disaggregated and lonely, and it is argued that women may want children to compensate for this (Andorka, 1978), as they are seen by many as a constant source of love and affection, and are usually totally dependant upon their parents.',\n",
       " \"This idea is supported by Coldwell, who says; 'one's own children provide a unique pleasure which is not substitutable' (1982, cited in Schoen et al, 1997, p335), showing that many women chose to have children for the unique personal rewards that they carry.\",\n",
       " 'It is also argued that children are a source of self expansion, enabling women to feel they are moral and altruistic people for producing them (Hoffman and Hoffman, 1973, cited in Andorka, 1978, p338), and that they are a way of reproducing ones self and ensuring ones characteristics remain, an influence becoming perhaps more important as life after death is no longer considered a reality (Gittins, 1993).',\n",
       " 'However as well as personal factors attracting women to motherhood, economic and social factors may also be influential.',\n",
       " 'Lancaster has argued that children do provide some economic profit, as they can be a way of claiming higher benefits and gaining access to housing, (1965, cited in Andorka, 1978, p364).',\n",
       " 'However it is now felt that economic factors do not influence the decision as much as in previous times, as women are no longer economically dependant upon men, and children are not needed to provide a source of income.',\n",
       " 'Instead social factors have more of an input.',\n",
       " \"Coleman claims that children are a form of 'social capital' (1988, cited in Schoen et al, 1997, p337), as they provide women with social benefits that they might not otherwise have, and this gain can influence the decision to have children.\",\n",
       " 'Having children can mean the development of social relationships that can be beneficial to women, and ensure higher standings within a social network (Schoen et al, 1997).',\n",
       " 'Becoming a parent signals adult status has been reached, and this can result in acceptance into certain prestigious social groups, or the chance for social mobility (Hoffman and Hoffman, 1973, cited in Andorka, 1978, p338), for example some workplaces reward workers who have children as they are seen as mature and responsible.',\n",
       " 'Although this is more applicable to male workers, it can mean that if a man is given promotion the whole family will be seen differently by society.',\n",
       " 'It is also suggested that having children can produce better social relationships with kin networks, meaning more physical, emotional and financial support that may not otherwise have been achieved (Schoen et al, 1997).',\n",
       " 'Having children can also provide women specifically with a higher status in society, as mothers are glorified (McDaniel, 1996), and many women may wish to be regarded highly by society.',\n",
       " 'It is also argued that children can give women more power in the domestic sphere, as nurturing is seen as naturally linked to women, so they are given control over this area (Gittins, 1993), and therefore see it as a way of gaining more power within domestic relationships.',\n",
       " 'Security is another form of social capital that can be created by having children.',\n",
       " 'As well as being a source of security in the form of constant love, they can also provide social and financial security, especially in old age.',\n",
       " 'Morrell found that many women feared old age, as women are now living longer than men (1994) and this fear can mean that women choose to have children to ensure their security, therefore making them an important social resource.',\n",
       " 'These more individual and personal reasons that influence the choice of women to have children often combine in a complex way, however they are not the only factors that affect the decision.',\n",
       " 'National discourses on motherhood and social policy have subtle influences that provide a background on which the more explicit influences of personal fulfilment and economic and social benefits are established.',\n",
       " 'Patriarchal ideology prescribes particular behaviour for marriage and reproduction; the idea that marriage is based upon heterosexual relationships and that having children is the next natural step (Gittins, 1993), meaning that many women see getting married and having children as a natural progression through life, even in modern society.',\n",
       " \"This is reinforced by strong historical discourses that link femininity with motherhood, claiming that 'true womanhood' is not reached unless women have children, or see having children as their biological and ideological goals (McDaniel, 1996).\",\n",
       " 'Culture dictates that it is natural for women to be mothers, and prescribes the number of children that is seen as respectable within our society (Schneider and Schneider, 1995, cited in Schoen et al, 1997, p335).',\n",
       " \"Religious, political and scientific leaders stress that it is only through motherhood that women can be fulfilled, and Gillespie supports this, highlighting the way in which motherhood is seen as natural in modern society; 'the idea that motherhood is essentialist, deterministic, fixed, inevitably fulfilling and central to feminine identity is firmly entrenched in industrial, urban and rural societies' (2001, p141).\",\n",
       " 'This discourse, as well as placing motherhood as natural and essential for defining women, also ensures that women in society without children, both voluntarily and involuntarily, are seen as failed and not proper women.',\n",
       " 'Culture also dictates that those who do not have children are selfish and immoral (Gillespie, 2001), and motherhood is seen as a signifier of normality (Morrell, 1994).',\n",
       " \"Women feel that they should fit in with what is 'normal and natural', meaning that they chose to have children.\",\n",
       " 'These ideas are evident in social policy.',\n",
       " 'As the nation relies on reproduction for its continuation, the state has much interest in levels of fertility and tries to encourage women to reproduce.',\n",
       " 'This is done by reinforcing the discourses of motherhood as natural, and through more explicit social policy.',\n",
       " 'This is evident in the USA where abortion and contraception are closely controlled by the state to ensure that women consider having children as important (McDaniel, 1996).',\n",
       " 'These discourses in society influence the more personal factors that are involved on the decision to become a mother, as they promote the idea that children are a natural progression for women and their main source of happiness.',\n",
       " 'Therefore many women feel that they should have children as it will make them happy, and see it as natural in order for them to fulfil their role in society, and gain status, as society attributes status to women through motherhood in these discourses.',\n",
       " 'Consequently these cultural ideas running through society influence and combine with personal, economic and social factors to create a complex combination of reasons as to why women have children.',\n",
       " 'However, despite these dominant discourses in society not all women have children.',\n",
       " 'Although this may be down to infertility in some cases, I will be looking at the issue of voluntary childlessness, where women choose not to have children, rather than being unable to.',\n",
       " 'As with the decision to have children, there are many personal, economic and social reasons why some women choose childlessness.',\n",
       " 'Some women simply do not like children (Gillespie, 2000), or fear the effects that having a child will have upon their figure.',\n",
       " 'Others may feel that due to crime and poverty the world now is not a suitable place to bring up children, or that the conditions of the town in which they live, for example lack of space, are not equitable to having children (Andorka, 1978).',\n",
       " 'Children are also a significant emotional responsibility and some women may feel they do not wish to take this on, or may already have carried such a responsibility, either for siblings or parents and not want to endure it again (Gillespie, 2000).',\n",
       " 'There is also the influence of economic factors to consider.',\n",
       " 'Children are no longer economic assets, but are in fact very financially costly, and many women may decide they cannot afford to have children (Schoen et al, 1997).',\n",
       " 'Fears about economic security have lead to more women deciding that children are not a viable option, and that the financial burden is too high a price to pay.',\n",
       " 'Aspirations for certain standards of living may also influence the decision as some will feel that the cost of children would not fit in with the lifestyle they wish to have (Andorka, 1978).',\n",
       " 'This links quite closely to social factors, as a desired lifestyle can be quite important when considering whether or not to have children.',\n",
       " 'Opportunities other than motherhood are now open to women, especially in economic structures, and some women choose to explore these opportunities, rather than experience motherhood.',\n",
       " \"Women's increasing participation in employment means that they are able to develop careers of their own, and many feel that they gain their identity from paid work and do not want to lose this by having children (Gillespie, 2001).\",\n",
       " 'Women now wish to have interests separate from the domestic sphere, and some may believe that having children places restrictions on the possibilities for this sort of lifestyle.',\n",
       " \"Morrell describes it as a desire for 'freedom from and freedom to', where women wish to have freedom from the ties, both financially and emotionally, of being mothers, but also want the freedom to experience a different lifestyle, with flexibility and no guilt.\",\n",
       " 'She also found that many did not like the context under which motherhood was supposed to take place, feeling that it would enforce a break from paid employment, therefore economic dependence, and confinement to the home ensuring a sexual division of labour (1994).',\n",
       " 'These desires for a lifestyle that does not involve children have been made possible by small changes in employment structures, which mean that women can now have a career, and the emergence of discourses, albeit not mainstream ones which allow women greater sexual freedom.',\n",
       " \"Gillespie describes this as 'the post-modern model of reproduction', in which social forces have impacted upon motherhood, meaning that that it is becoming disaggregated with the natural (2001), so motherhood is no longer seen as synonymous with femininity.\",\n",
       " 'This shows that as well as there being personal, economic and social factors influencing the decision not to have children, changes in employment structures and new discourses emerging on motherhood and reproduction mean that these factors are possible in modern society.',\n",
       " 'Therefore it is a complex combination of social ideals and personal responses that results in women becoming voluntarily childless.',\n",
       " 'Overall this shows that there are many complex influences upon the decision of whether or not have children.',\n",
       " 'In the decision to have children discourses on motherhood and reproduction create the ideal that motherhood is both natural and fulfilling for women, and this impacts upon personal, economic and social factors, including security, happiness and social capital, that lead to women choosing to have children.',\n",
       " 'The same idea can be seen in the decision not to have children, as changing opportunities for women, and emerging discourses are making it possible for women to decide that for personal, economic and social reasons, for example lifestyle choices, they wish to remain childless.',\n",
       " 'In conclusion why women do or do not have children is a complex process influenced by many factors, and based upon a variety of discourses and opportunities ingrained within society, not simply whether or not a woman likes children.']"
      ]
     },
     "execution_count": 139,
     "metadata": {},
     "output_type": "execute_result"
    }
   ],
   "source": [
    "corpus"
   ]
  },
  {
   "cell_type": "code",
   "execution_count": 140,
   "metadata": {
    "colab": {
     "base_uri": "https://localhost:8080/"
    },
    "id": "bQv2dcaoC8N4",
    "outputId": "1cbd92bf-dfa8-4de9-e2c6-54234b46fe5a"
   },
   "outputs": [
    {
     "data": {
      "text/plain": [
       "67"
      ]
     },
     "execution_count": 140,
     "metadata": {},
     "output_type": "execute_result"
    }
   ],
   "source": [
    "len(corpus_list)"
   ]
  },
  {
   "cell_type": "code",
   "execution_count": 141,
   "metadata": {
    "id": "YXVsaG1mCPpA"
   },
   "outputs": [],
   "source": [
    "vectorizer = TfidfVectorizer()"
   ]
  },
  {
   "cell_type": "code",
   "execution_count": 142,
   "metadata": {
    "id": "TUvcHY0tCQhE"
   },
   "outputs": [],
   "source": [
    "X = vectorizer.fit_transform(corpus)"
   ]
  },
  {
   "cell_type": "code",
   "execution_count": 143,
   "metadata": {
    "id": "7xJDOiXFCShU"
   },
   "outputs": [],
   "source": [
    "vocab=vectorizer.get_feature_names_out()"
   ]
  },
  {
   "cell_type": "code",
   "execution_count": 144,
   "metadata": {
    "colab": {
     "base_uri": "https://localhost:8080/"
    },
    "id": "3UGNKKvTDr0b",
    "outputId": "6fac3500-2c90-489d-f7b8-efb645116e0e"
   },
   "outputs": [
    {
     "data": {
      "text/plain": [
       "592"
      ]
     },
     "execution_count": 144,
     "metadata": {},
     "output_type": "execute_result"
    }
   ],
   "source": [
    "len(vocab)"
   ]
  },
  {
   "cell_type": "code",
   "execution_count": 145,
   "metadata": {
    "id": "XagMp3SjCh89"
   },
   "outputs": [],
   "source": [
    "embeddings_array=X.toarray().T"
   ]
  },
  {
   "cell_type": "code",
   "execution_count": 146,
   "metadata": {
    "id": "DT8c7w-7CjdO"
   },
   "outputs": [],
   "source": [
    "pca=PCA(n_components=50)"
   ]
  },
  {
   "cell_type": "code",
   "execution_count": 147,
   "metadata": {
    "id": "xiMVVGCJCmet"
   },
   "outputs": [],
   "source": [
    "dense_embeddings=pca.fit_transform(embeddings_array)"
   ]
  },
  {
   "cell_type": "code",
   "execution_count": 148,
   "metadata": {
    "id": "tu2Dq94rCuF-"
   },
   "outputs": [],
   "source": [
    "embeddings_dict={}"
   ]
  },
  {
   "cell_type": "code",
   "execution_count": 149,
   "metadata": {
    "id": "8Q64WXqFCzlV"
   },
   "outputs": [],
   "source": [
    "for i in range(len(vocab)):\n",
    "  embeddings_dict[vocab[i]]=dense_embeddings[i].tolist()"
   ]
  },
  {
   "cell_type": "code",
   "execution_count": 150,
   "metadata": {
    "id": "qqRXRezK2WAu"
   },
   "outputs": [],
   "source": [
    "seq_len=10\n",
    "tokenizer=Tokenizer()\n",
    "tokenizer.fit_on_texts([data])\n",
    "x=tokenizer.texts_to_sequences([data])\n",
    "#x"
   ]
  },
  {
   "cell_type": "code",
   "execution_count": 151,
   "metadata": {
    "id": "2PFl9iQ8qgZ3"
   },
   "outputs": [
    {
     "data": {
      "text/plain": [
       "[114,\n",
       " 33,\n",
       " 150,\n",
       " 151,\n",
       " 12,\n",
       " 39,\n",
       " 241,\n",
       " 2,\n",
       " 4,\n",
       " 28,\n",
       " 6,\n",
       " 242,\n",
       " 2,\n",
       " 115,\n",
       " 87,\n",
       " 29,\n",
       " 13,\n",
       " 2,\n",
       " 9,\n",
       " 5,\n",
       " 116,\n",
       " 2,\n",
       " 9,\n",
       " 54,\n",
       " 1,\n",
       " 7,\n",
       " 152,\n",
       " 153,\n",
       " 39,\n",
       " 11,\n",
       " 150,\n",
       " 243,\n",
       " 117,\n",
       " 2,\n",
       " 4,\n",
       " 18,\n",
       " 244,\n",
       " 28,\n",
       " 245,\n",
       " 15,\n",
       " 1,\n",
       " 21,\n",
       " 55,\n",
       " 16,\n",
       " 4,\n",
       " 88,\n",
       " 118,\n",
       " 2,\n",
       " 89,\n",
       " 246,\n",
       " 7,\n",
       " 6,\n",
       " 119,\n",
       " 10,\n",
       " 69,\n",
       " 4,\n",
       " 28,\n",
       " 7,\n",
       " 247,\n",
       " 248,\n",
       " 8,\n",
       " 25,\n",
       " 249,\n",
       " 3,\n",
       " 17,\n",
       " 250,\n",
       " 2,\n",
       " 90,\n",
       " 69,\n",
       " 8,\n",
       " 7,\n",
       " 251,\n",
       " 47,\n",
       " 56,\n",
       " 70,\n",
       " 6,\n",
       " 252,\n",
       " 119,\n",
       " 10,\n",
       " 5,\n",
       " 253,\n",
       " 154,\n",
       " 7,\n",
       " 254,\n",
       " 1,\n",
       " 6,\n",
       " 155,\n",
       " 12,\n",
       " 156,\n",
       " 255,\n",
       " 29,\n",
       " 256,\n",
       " 257,\n",
       " 258,\n",
       " 259,\n",
       " 157,\n",
       " 3,\n",
       " 25,\n",
       " 14,\n",
       " 156,\n",
       " 30,\n",
       " 5,\n",
       " 7,\n",
       " 18,\n",
       " 260,\n",
       " 71,\n",
       " 43,\n",
       " 158,\n",
       " 48,\n",
       " 4,\n",
       " 9,\n",
       " 5,\n",
       " 159,\n",
       " 261,\n",
       " 72,\n",
       " 12,\n",
       " 39,\n",
       " 33,\n",
       " 262,\n",
       " 16,\n",
       " 54,\n",
       " 13,\n",
       " 2,\n",
       " 1,\n",
       " 48,\n",
       " 160,\n",
       " 91,\n",
       " 23,\n",
       " 13,\n",
       " 9,\n",
       " 5,\n",
       " 23,\n",
       " 13,\n",
       " 23,\n",
       " 120,\n",
       " 71,\n",
       " 43,\n",
       " 263,\n",
       " 26,\n",
       " 92,\n",
       " 73,\n",
       " 48,\n",
       " 4,\n",
       " 23,\n",
       " 9,\n",
       " 5,\n",
       " 264,\n",
       " 6,\n",
       " 57,\n",
       " 10,\n",
       " 265,\n",
       " 1,\n",
       " 266,\n",
       " 7,\n",
       " 6,\n",
       " 35,\n",
       " 267,\n",
       " 26,\n",
       " 74,\n",
       " 75,\n",
       " 92,\n",
       " 73,\n",
       " 22,\n",
       " 161,\n",
       " 8,\n",
       " 268,\n",
       " 4,\n",
       " 121,\n",
       " 19,\n",
       " 269,\n",
       " 15,\n",
       " 1,\n",
       " 21,\n",
       " 22,\n",
       " 8,\n",
       " 76,\n",
       " 8,\n",
       " 92,\n",
       " 73,\n",
       " 6,\n",
       " 58,\n",
       " 10,\n",
       " 270,\n",
       " 22,\n",
       " 162,\n",
       " 8,\n",
       " 122,\n",
       " 34,\n",
       " 37,\n",
       " 19,\n",
       " 1,\n",
       " 15,\n",
       " 93,\n",
       " 71,\n",
       " 43,\n",
       " 271,\n",
       " 272,\n",
       " 48,\n",
       " 4,\n",
       " 23,\n",
       " 13,\n",
       " 9,\n",
       " 5,\n",
       " 29,\n",
       " 90,\n",
       " 8,\n",
       " 47,\n",
       " 123,\n",
       " 8,\n",
       " 124,\n",
       " 69,\n",
       " 56,\n",
       " 125,\n",
       " 6,\n",
       " 44,\n",
       " 10,\n",
       " 31,\n",
       " 15,\n",
       " 1,\n",
       " 21,\n",
       " 22,\n",
       " 1,\n",
       " 163,\n",
       " 55,\n",
       " 16,\n",
       " 4,\n",
       " 7,\n",
       " 125,\n",
       " 126,\n",
       " 10,\n",
       " 40,\n",
       " 58,\n",
       " 37,\n",
       " 48,\n",
       " 4,\n",
       " 23,\n",
       " 29,\n",
       " 23,\n",
       " 13,\n",
       " 9,\n",
       " 5,\n",
       " 71,\n",
       " 43,\n",
       " 273,\n",
       " 73,\n",
       " 274,\n",
       " 17,\n",
       " 126,\n",
       " 164,\n",
       " 275,\n",
       " 2,\n",
       " 94,\n",
       " 11,\n",
       " 51,\n",
       " 165,\n",
       " 13,\n",
       " 276,\n",
       " 11,\n",
       " 277,\n",
       " 35,\n",
       " 74,\n",
       " 278,\n",
       " 3,\n",
       " 4,\n",
       " 23,\n",
       " 13,\n",
       " 77,\n",
       " 2,\n",
       " 9,\n",
       " 5,\n",
       " 95,\n",
       " 166,\n",
       " 20,\n",
       " 12,\n",
       " 279,\n",
       " 3,\n",
       " 17,\n",
       " 127,\n",
       " 128,\n",
       " 2,\n",
       " 129,\n",
       " 1,\n",
       " 14,\n",
       " 280,\n",
       " 2,\n",
       " 130,\n",
       " 32,\n",
       " 166,\n",
       " 17,\n",
       " 14,\n",
       " 281,\n",
       " 282,\n",
       " 121,\n",
       " 20,\n",
       " 26,\n",
       " 122,\n",
       " 34,\n",
       " 37,\n",
       " 19,\n",
       " 1,\n",
       " 15,\n",
       " 283,\n",
       " 284,\n",
       " 116,\n",
       " 167,\n",
       " 168,\n",
       " 285,\n",
       " 14,\n",
       " 13,\n",
       " 95,\n",
       " 286,\n",
       " 2,\n",
       " 287,\n",
       " 4,\n",
       " 14,\n",
       " 288,\n",
       " 7,\n",
       " 18,\n",
       " 289,\n",
       " 7,\n",
       " 290,\n",
       " 26,\n",
       " 131,\n",
       " 291,\n",
       " 10,\n",
       " 96,\n",
       " 19,\n",
       " 1,\n",
       " 292,\n",
       " 75,\n",
       " 293,\n",
       " 18,\n",
       " 169,\n",
       " 3,\n",
       " 11,\n",
       " 51,\n",
       " 132,\n",
       " 10,\n",
       " 31,\n",
       " 170,\n",
       " 1,\n",
       " 131,\n",
       " 58,\n",
       " 133,\n",
       " 7,\n",
       " 171,\n",
       " 294,\n",
       " 2,\n",
       " 9,\n",
       " 5,\n",
       " 25,\n",
       " 31,\n",
       " 78,\n",
       " 16,\n",
       " 4,\n",
       " 30,\n",
       " 5,\n",
       " 9,\n",
       " 97,\n",
       " 161,\n",
       " 6,\n",
       " 27,\n",
       " 7,\n",
       " 45,\n",
       " 295,\n",
       " 39,\n",
       " 172,\n",
       " 12,\n",
       " 173,\n",
       " 1,\n",
       " 296,\n",
       " 1,\n",
       " 20,\n",
       " 12,\n",
       " 98,\n",
       " 3,\n",
       " 4,\n",
       " 38,\n",
       " 99,\n",
       " 5,\n",
       " 2,\n",
       " 297,\n",
       " 16,\n",
       " 18,\n",
       " 59,\n",
       " 60,\n",
       " 8,\n",
       " 17,\n",
       " 14,\n",
       " 41,\n",
       " 26,\n",
       " 25,\n",
       " 8,\n",
       " 11,\n",
       " 174,\n",
       " 79,\n",
       " 10,\n",
       " 175,\n",
       " 1,\n",
       " 298,\n",
       " 1,\n",
       " 14,\n",
       " 299,\n",
       " 300,\n",
       " 176,\n",
       " 49,\n",
       " 50,\n",
       " 177,\n",
       " 18,\n",
       " 57,\n",
       " 12,\n",
       " 301,\n",
       " 26,\n",
       " 302,\n",
       " 91,\n",
       " 168,\n",
       " 303,\n",
       " 178,\n",
       " 5,\n",
       " 52,\n",
       " 11,\n",
       " 179,\n",
       " 304,\n",
       " 45,\n",
       " 12,\n",
       " 13,\n",
       " 305,\n",
       " 306,\n",
       " 61,\n",
       " 7,\n",
       " 62,\n",
       " 63,\n",
       " 64,\n",
       " 65,\n",
       " 180,\n",
       " 157,\n",
       " 3,\n",
       " 25,\n",
       " 4,\n",
       " 115,\n",
       " 2,\n",
       " 9,\n",
       " 5,\n",
       " 16,\n",
       " 6,\n",
       " 179,\n",
       " 31,\n",
       " 307,\n",
       " 3,\n",
       " 17,\n",
       " 308,\n",
       " 20,\n",
       " 12,\n",
       " 32,\n",
       " 98,\n",
       " 3,\n",
       " 5,\n",
       " 14,\n",
       " 11,\n",
       " 79,\n",
       " 10,\n",
       " 181,\n",
       " 309,\n",
       " 310,\n",
       " 4,\n",
       " 2,\n",
       " 53,\n",
       " 17,\n",
       " 14,\n",
       " 311,\n",
       " 1,\n",
       " 312,\n",
       " 313,\n",
       " 16,\n",
       " 314,\n",
       " 54,\n",
       " 100,\n",
       " 1,\n",
       " 100,\n",
       " 182,\n",
       " 61,\n",
       " 7,\n",
       " 59,\n",
       " 60,\n",
       " 183,\n",
       " 1,\n",
       " 3,\n",
       " 17,\n",
       " 14,\n",
       " 11,\n",
       " 80,\n",
       " 10,\n",
       " 315,\n",
       " 134,\n",
       " 181,\n",
       " 1,\n",
       " 184,\n",
       " 134,\n",
       " 316,\n",
       " 90,\n",
       " 89,\n",
       " 44,\n",
       " 101,\n",
       " 317,\n",
       " 33,\n",
       " 102,\n",
       " 8,\n",
       " 185,\n",
       " 318,\n",
       " 319,\n",
       " 12,\n",
       " 81,\n",
       " 82,\n",
       " 320,\n",
       " 11,\n",
       " 321,\n",
       " 135,\n",
       " 136,\n",
       " 70,\n",
       " 8,\n",
       " 76,\n",
       " 8,\n",
       " 31,\n",
       " 22,\n",
       " 322,\n",
       " 4,\n",
       " 2,\n",
       " 19,\n",
       " 21,\n",
       " 1,\n",
       " 15,\n",
       " 22,\n",
       " 38,\n",
       " 32,\n",
       " 36,\n",
       " 323,\n",
       " 324,\n",
       " 88,\n",
       " 98,\n",
       " 3,\n",
       " 5,\n",
       " 23,\n",
       " 52,\n",
       " 46,\n",
       " 21,\n",
       " 325,\n",
       " 8,\n",
       " 17,\n",
       " 24,\n",
       " 36,\n",
       " 11,\n",
       " 80,\n",
       " 10,\n",
       " 186,\n",
       " 137,\n",
       " 138,\n",
       " 1,\n",
       " 187,\n",
       " 326,\n",
       " 2,\n",
       " 327,\n",
       " 328,\n",
       " 61,\n",
       " 7,\n",
       " 59,\n",
       " 60,\n",
       " 329,\n",
       " 70,\n",
       " 20,\n",
       " 12,\n",
       " 39,\n",
       " 330,\n",
       " 3,\n",
       " 21,\n",
       " 22,\n",
       " 23,\n",
       " 13,\n",
       " 44,\n",
       " 6,\n",
       " 35,\n",
       " 8,\n",
       " 114,\n",
       " 8,\n",
       " 7,\n",
       " 331,\n",
       " 332,\n",
       " 8,\n",
       " 4,\n",
       " 14,\n",
       " 81,\n",
       " 82,\n",
       " 333,\n",
       " 176,\n",
       " 49,\n",
       " 188,\n",
       " 1,\n",
       " 5,\n",
       " 14,\n",
       " 13,\n",
       " 334,\n",
       " 2,\n",
       " 52,\n",
       " 11,\n",
       " 79,\n",
       " 10,\n",
       " 335,\n",
       " 336,\n",
       " 15,\n",
       " 22,\n",
       " 9,\n",
       " 33,\n",
       " 10,\n",
       " 89,\n",
       " 337,\n",
       " 338,\n",
       " 339,\n",
       " 3,\n",
       " 5,\n",
       " 14,\n",
       " 11,\n",
       " 94,\n",
       " 10,\n",
       " 340,\n",
       " 341,\n",
       " 342,\n",
       " 61,\n",
       " 7,\n",
       " 62,\n",
       " 63,\n",
       " 64,\n",
       " 65,\n",
       " 343,\n",
       " 8,\n",
       " 17,\n",
       " 52,\n",
       " 4,\n",
       " 28,\n",
       " 15,\n",
       " 138,\n",
       " 3,\n",
       " 17,\n",
       " 344,\n",
       " 13,\n",
       " 189,\n",
       " 9,\n",
       " 1,\n",
       " 18,\n",
       " 139,\n",
       " 24,\n",
       " 44,\n",
       " 6,\n",
       " 35,\n",
       " 2,\n",
       " 9,\n",
       " 5,\n",
       " 30,\n",
       " 5,\n",
       " 24,\n",
       " 83,\n",
       " 6,\n",
       " 345,\n",
       " 10,\n",
       " 15,\n",
       " 103,\n",
       " 3,\n",
       " 24,\n",
       " 36,\n",
       " 346,\n",
       " 2,\n",
       " 4,\n",
       " 1,\n",
       " 140,\n",
       " 137,\n",
       " 347,\n",
       " 104,\n",
       " 11,\n",
       " 15,\n",
       " 348,\n",
       " 62,\n",
       " 63,\n",
       " 64,\n",
       " 65,\n",
       " 101,\n",
       " 11,\n",
       " 349,\n",
       " 350,\n",
       " 351,\n",
       " 105,\n",
       " 88,\n",
       " 97,\n",
       " 190,\n",
       " 1,\n",
       " 18,\n",
       " 24,\n",
       " 352,\n",
       " 7,\n",
       " 353,\n",
       " 121,\n",
       " 191,\n",
       " 354,\n",
       " 15,\n",
       " 355,\n",
       " 29,\n",
       " 6,\n",
       " 356,\n",
       " 16,\n",
       " 15,\n",
       " 357,\n",
       " 100,\n",
       " 1,\n",
       " 100,\n",
       " 182,\n",
       " 61,\n",
       " 7,\n",
       " 59,\n",
       " 60,\n",
       " 183,\n",
       " 16,\n",
       " 141,\n",
       " 46,\n",
       " 358,\n",
       " 359,\n",
       " 192,\n",
       " 91,\n",
       " 9,\n",
       " 5,\n",
       " 8,\n",
       " 17,\n",
       " 14,\n",
       " 41,\n",
       " 8,\n",
       " 360,\n",
       " 1,\n",
       " 361,\n",
       " 193,\n",
       " 18,\n",
       " 12,\n",
       " 33,\n",
       " 362,\n",
       " 2,\n",
       " 363,\n",
       " 192,\n",
       " 20,\n",
       " 24,\n",
       " 83,\n",
       " 3,\n",
       " 364,\n",
       " 11,\n",
       " 365,\n",
       " 12,\n",
       " 117,\n",
       " 366,\n",
       " 6,\n",
       " 367,\n",
       " 368,\n",
       " 43,\n",
       " 36,\n",
       " 41,\n",
       " 369,\n",
       " 26,\n",
       " 27,\n",
       " 20,\n",
       " 12,\n",
       " 32,\n",
       " 370,\n",
       " 3,\n",
       " 30,\n",
       " 5,\n",
       " 24,\n",
       " 371,\n",
       " 372,\n",
       " 15,\n",
       " 103,\n",
       " 28,\n",
       " 373,\n",
       " 374,\n",
       " 106,\n",
       " 33,\n",
       " 375,\n",
       " 194,\n",
       " 1,\n",
       " 142,\n",
       " 376,\n",
       " 3,\n",
       " 38,\n",
       " 13,\n",
       " 189,\n",
       " 9,\n",
       " 97,\n",
       " 377,\n",
       " 62,\n",
       " 63,\n",
       " 64,\n",
       " 65,\n",
       " 30,\n",
       " 5,\n",
       " 24,\n",
       " 32,\n",
       " 52,\n",
       " 4,\n",
       " 378,\n",
       " 28,\n",
       " 11,\n",
       " 137,\n",
       " 105,\n",
       " 7,\n",
       " 27,\n",
       " 8,\n",
       " 143,\n",
       " 14,\n",
       " 379,\n",
       " 144,\n",
       " 145,\n",
       " 1,\n",
       " 25,\n",
       " 4,\n",
       " 38,\n",
       " 66,\n",
       " 2,\n",
       " 36,\n",
       " 380,\n",
       " 381,\n",
       " 26,\n",
       " 27,\n",
       " 20,\n",
       " 12,\n",
       " 32,\n",
       " 98,\n",
       " 3,\n",
       " 5,\n",
       " 24,\n",
       " 382,\n",
       " 4,\n",
       " 33,\n",
       " 195,\n",
       " 7,\n",
       " 6,\n",
       " 146,\n",
       " 196,\n",
       " 8,\n",
       " 383,\n",
       " 12,\n",
       " 41,\n",
       " 8,\n",
       " 384,\n",
       " 385,\n",
       " 2,\n",
       " 4,\n",
       " 120,\n",
       " 17,\n",
       " 14,\n",
       " 117,\n",
       " 386,\n",
       " 387,\n",
       " 18,\n",
       " 388,\n",
       " 135,\n",
       " 136,\n",
       " 1,\n",
       " 84,\n",
       " 107,\n",
       " 20,\n",
       " 8,\n",
       " 11,\n",
       " 80,\n",
       " 10,\n",
       " 187,\n",
       " 33,\n",
       " 195,\n",
       " 104,\n",
       " 146,\n",
       " 103,\n",
       " 67,\n",
       " 12,\n",
       " 389,\n",
       " 94,\n",
       " 10,\n",
       " 15,\n",
       " 197,\n",
       " 3,\n",
       " 24,\n",
       " 36,\n",
       " 390,\n",
       " 26,\n",
       " 30,\n",
       " 5,\n",
       " 8,\n",
       " 76,\n",
       " 8,\n",
       " 108,\n",
       " 11,\n",
       " 79,\n",
       " 10,\n",
       " 67,\n",
       " 7,\n",
       " 6,\n",
       " 94,\n",
       " 10,\n",
       " 174,\n",
       " 175,\n",
       " 17,\n",
       " 24,\n",
       " 32,\n",
       " 52,\n",
       " 15,\n",
       " 1,\n",
       " 142,\n",
       " 67,\n",
       " 198,\n",
       " 7,\n",
       " 199,\n",
       " 200,\n",
       " 74,\n",
       " 201,\n",
       " 3,\n",
       " 25,\n",
       " 4,\n",
       " 391,\n",
       " 199,\n",
       " 200,\n",
       " 8,\n",
       " 4,\n",
       " 14,\n",
       " 39,\n",
       " 202,\n",
       " 82,\n",
       " 109,\n",
       " 188,\n",
       " 75,\n",
       " 1,\n",
       " 18,\n",
       " 203,\n",
       " 24,\n",
       " 83,\n",
       " 3,\n",
       " 4,\n",
       " 77,\n",
       " 2,\n",
       " 9,\n",
       " 5,\n",
       " 2,\n",
       " 140,\n",
       " 50,\n",
       " 67,\n",
       " 84,\n",
       " 204,\n",
       " 54,\n",
       " 89,\n",
       " 102,\n",
       " 15,\n",
       " 392,\n",
       " 40,\n",
       " 33,\n",
       " 393,\n",
       " 1,\n",
       " 31,\n",
       " 78,\n",
       " 3,\n",
       " 44,\n",
       " 6,\n",
       " 151,\n",
       " 10,\n",
       " 4,\n",
       " 2,\n",
       " 9,\n",
       " 5,\n",
       " 394,\n",
       " 133,\n",
       " 7,\n",
       " 11,\n",
       " 51,\n",
       " 80,\n",
       " 70,\n",
       " 17,\n",
       " 14,\n",
       " 13,\n",
       " 6,\n",
       " 95,\n",
       " 22,\n",
       " 3,\n",
       " 395,\n",
       " 6,\n",
       " 35,\n",
       " 122,\n",
       " 34,\n",
       " 37,\n",
       " 19,\n",
       " 1,\n",
       " 15,\n",
       " 93,\n",
       " 9,\n",
       " 396,\n",
       " 58,\n",
       " 3,\n",
       " 52,\n",
       " 11,\n",
       " 397,\n",
       " 37,\n",
       " 45,\n",
       " 6,\n",
       " ...]"
      ]
     },
     "execution_count": 151,
     "metadata": {},
     "output_type": "execute_result"
    }
   ],
   "source": [
    "x[0]"
   ]
  },
  {
   "cell_type": "code",
   "execution_count": 152,
   "metadata": {
    "colab": {
     "base_uri": "https://localhost:8080/"
    },
    "id": "we_hprIlUtg4",
    "outputId": "e43c9f93-c566-4d14-dfd5-41835a9877ff"
   },
   "outputs": [
    {
     "data": {
      "text/plain": [
       "2226"
      ]
     },
     "execution_count": 152,
     "metadata": {},
     "output_type": "execute_result"
    }
   ],
   "source": [
    "len(x[0])"
   ]
  },
  {
   "cell_type": "code",
   "execution_count": 153,
   "metadata": {
    "id": "PvnR-g1E1iEu"
   },
   "outputs": [],
   "source": [
    "#tokenizer.get_config()"
   ]
  },
  {
   "cell_type": "code",
   "execution_count": 154,
   "metadata": {
    "id": "RcikPqp7r667"
   },
   "outputs": [],
   "source": [
    "vocab_dict=json.loads(tokenizer.get_config().get('word_index'))"
   ]
  },
  {
   "cell_type": "code",
   "execution_count": 155,
   "metadata": {
    "id": "8z9TJ69hq1zM"
   },
   "outputs": [
    {
     "data": {
      "text/plain": [
       "{'and': 1,\n",
       " 'to': 2,\n",
       " 'that': 3,\n",
       " 'women': 4,\n",
       " 'children': 5,\n",
       " 'the': 6,\n",
       " 'in': 7,\n",
       " 'as': 8,\n",
       " 'have': 9,\n",
       " 'of': 10,\n",
       " 'a': 11,\n",
       " 'is': 12,\n",
       " 'not': 13,\n",
       " 'are': 14,\n",
       " 'social': 15,\n",
       " 'for': 16,\n",
       " 'they': 17,\n",
       " 'this': 18,\n",
       " 'motherhood': 19,\n",
       " 'it': 20,\n",
       " 'economic': 21,\n",
       " 'factors': 22,\n",
       " 'do': 23,\n",
       " 'can': 24,\n",
       " 'many': 25,\n",
       " 'by': 26,\n",
       " 'society': 27,\n",
       " 'with': 28,\n",
       " 'or': 29,\n",
       " 'having': 30,\n",
       " 'personal': 31,\n",
       " 'also': 32,\n",
       " 'more': 33,\n",
       " 'discourses': 34,\n",
       " 'decision': 35,\n",
       " 'be': 36,\n",
       " 'on': 37,\n",
       " 'may': 38,\n",
       " 'now': 39,\n",
       " 'these': 40,\n",
       " 'seen': 41,\n",
       " 'natural': 42,\n",
       " 'will': 43,\n",
       " 'influence': 44,\n",
       " 'which': 45,\n",
       " 'some': 46,\n",
       " 'gillespie': 47,\n",
       " 'why': 48,\n",
       " 'upon': 49,\n",
       " 'their': 50,\n",
       " 'complex': 51,\n",
       " 'provide': 52,\n",
       " 'feel': 53,\n",
       " 'them': 54,\n",
       " 'opportunities': 55,\n",
       " '2001': 56,\n",
       " 'idea': 57,\n",
       " 'influences': 58,\n",
       " 'andorka': 59,\n",
       " '1978': 60,\n",
       " 'cited': 61,\n",
       " 'schoen': 62,\n",
       " 'et': 63,\n",
       " 'al': 64,\n",
       " '1997': 65,\n",
       " 'wish': 66,\n",
       " 'security': 67,\n",
       " 'lifestyle': 68,\n",
       " 'childless': 69,\n",
       " 'however': 70,\n",
       " 'i': 71,\n",
       " 'there': 72,\n",
       " 'at': 73,\n",
       " 'morrell': 74,\n",
       " '1994': 75,\n",
       " 'well': 76,\n",
       " 'choose': 77,\n",
       " 'reasons': 78,\n",
       " 'source': 79,\n",
       " 'way': 80,\n",
       " 'no': 81,\n",
       " 'longer': 82,\n",
       " 'mean': 83,\n",
       " 'therefore': 84,\n",
       " 'through': 85,\n",
       " 'from': 86,\n",
       " 'whether': 87,\n",
       " 'has': 88,\n",
       " 'an': 89,\n",
       " 'remain': 90,\n",
       " 'who': 91,\n",
       " 'looking': 92,\n",
       " 'policy': 93,\n",
       " 'form': 94,\n",
       " 'only': 95,\n",
       " 'both': 96,\n",
       " 'been': 97,\n",
       " 'argued': 98,\n",
       " 'want': 99,\n",
       " 'hoffman': 100,\n",
       " 'becoming': 101,\n",
       " 'important': 102,\n",
       " 'relationships': 103,\n",
       " 'within': 104,\n",
       " 'status': 105,\n",
       " 'meaning': 106,\n",
       " 'see': 107,\n",
       " 'being': 108,\n",
       " 'than': 109,\n",
       " 'reproduction': 110,\n",
       " 'modern': 111,\n",
       " 'employment': 112,\n",
       " 'freedom': 113,\n",
       " 'much': 114,\n",
       " 'chose': 115,\n",
       " 'when': 116,\n",
       " 'given': 117,\n",
       " 'lead': 118,\n",
       " 'number': 119,\n",
       " 'so': 120,\n",
       " 'into': 121,\n",
       " 'national': 122,\n",
       " 'describes': 123,\n",
       " 'voluntarily': 124,\n",
       " 'considering': 125,\n",
       " 'all': 126,\n",
       " 'would': 127,\n",
       " 'like': 128,\n",
       " 'experience': 129,\n",
       " 'but': 130,\n",
       " 'cultural': 131,\n",
       " 'combination': 132,\n",
       " 'combine': 133,\n",
       " 'ones': 134,\n",
       " 'gittins': 135,\n",
       " '1993': 136,\n",
       " 'higher': 137,\n",
       " 'benefits': 138,\n",
       " 'gain': 139,\n",
       " 'ensure': 140,\n",
       " 'example': 141,\n",
       " 'financial': 142,\n",
       " 'mothers': 143,\n",
       " 'mcdaniel': 144,\n",
       " '1996': 145,\n",
       " 'domestic': 146,\n",
       " 'where': 147,\n",
       " 'structures': 148,\n",
       " 'possible': 149,\n",
       " 'reproductive': 150,\n",
       " 'choice': 151,\n",
       " 'what': 152,\n",
       " 'context': 153,\n",
       " 'woman': 154,\n",
       " 'usa': 155,\n",
       " 'still': 156,\n",
       " 'showing': 157,\n",
       " 'explore': 158,\n",
       " 'even': 159,\n",
       " 'those': 160,\n",
       " 'identified': 161,\n",
       " 'such': 162,\n",
       " 'changing': 163,\n",
       " 'work': 164,\n",
       " 'process': 165,\n",
       " 'because': 166,\n",
       " 'she': 167,\n",
       " 'says': 168,\n",
       " 'means': 169,\n",
       " 'choices': 170,\n",
       " \"women's\": 171,\n",
       " 'live': 172,\n",
       " 'disaggregated': 173,\n",
       " 'constant': 174,\n",
       " 'love': 175,\n",
       " 'dependant': 176,\n",
       " 'parents': 177,\n",
       " 'own': 178,\n",
       " 'unique': 179,\n",
       " 'p335': 180,\n",
       " 'self': 181,\n",
       " '1973': 182,\n",
       " 'p338': 183,\n",
       " 'ensuring': 184,\n",
       " 'life': 185,\n",
       " 'claiming': 186,\n",
       " 'gaining': 187,\n",
       " 'men': 188,\n",
       " 'otherwise': 189,\n",
       " 'reached': 190,\n",
       " 'certain': 191,\n",
       " 'workers': 192,\n",
       " 'although': 193,\n",
       " 'emotional': 194,\n",
       " 'power': 195,\n",
       " 'sphere': 196,\n",
       " 'capital': 197,\n",
       " 'especially': 198,\n",
       " 'old': 199,\n",
       " 'age': 200,\n",
       " 'found': 201,\n",
       " 'living': 202,\n",
       " 'fear': 203,\n",
       " 'making': 204,\n",
       " 'explicit': 205,\n",
       " 'prescribes': 206,\n",
       " 'marriage': 207,\n",
       " 'based': 208,\n",
       " 'progression': 209,\n",
       " 'femininity': 210,\n",
       " 'culture': 211,\n",
       " 'dictates': 212,\n",
       " 'schneider': 213,\n",
       " \"'the\": 214,\n",
       " 'fulfilling': 215,\n",
       " 'identity': 216,\n",
       " 'should': 217,\n",
       " 'fit': 218,\n",
       " 'ideas': 219,\n",
       " 'evident': 220,\n",
       " 'state': 221,\n",
       " 'closely': 222,\n",
       " 'consider': 223,\n",
       " 'happiness': 224,\n",
       " 'create': 225,\n",
       " 'childlessness': 226,\n",
       " 'rather': 227,\n",
       " 'simply': 228,\n",
       " '2000': 229,\n",
       " 'place': 230,\n",
       " 'responsibility': 231,\n",
       " 'take': 232,\n",
       " 'financially': 233,\n",
       " 'decide': 234,\n",
       " 'quite': 235,\n",
       " 'paid': 236,\n",
       " 'sexual': 237,\n",
       " 'changes': 238,\n",
       " 'shows': 239,\n",
       " 'emerging': 240,\n",
       " 'available': 241,\n",
       " 'ability': 242,\n",
       " 'right': 243,\n",
       " 'combined': 244,\n",
       " 'shifting': 245,\n",
       " 'increase': 246,\n",
       " '1991': 247,\n",
       " 'twice': 248,\n",
       " 'saying': 249,\n",
       " 'expected': 250,\n",
       " '1986': 251,\n",
       " 'anticipated': 252,\n",
       " 'per': 253,\n",
       " 'europe': 254,\n",
       " 'near': 255,\n",
       " 'above': 256,\n",
       " 'two': 257,\n",
       " 'bongaarts': 258,\n",
       " '1999': 259,\n",
       " 'essay': 260,\n",
       " 'though': 261,\n",
       " 'opportunity': 262,\n",
       " 'begin': 263,\n",
       " 'exploring': 264,\n",
       " 'push': 265,\n",
       " 'pull': 266,\n",
       " 'introduced': 267,\n",
       " \"'pulling'\": 268,\n",
       " 'psychological': 269,\n",
       " \"'push'\": 270,\n",
       " 'then': 271,\n",
       " 'examine': 272,\n",
       " 'look': 273,\n",
       " 'how': 274,\n",
       " 'together': 275,\n",
       " 'just': 276,\n",
       " 'simple': 277,\n",
       " 'argues': 278,\n",
       " 'something': 279,\n",
       " 'attracted': 280,\n",
       " 'almost': 281,\n",
       " 'forced': 282,\n",
       " 'policies': 283,\n",
       " 'illustrated': 284,\n",
       " \"'women\": 285,\n",
       " 'pulled': 286,\n",
       " 'mothering': 287,\n",
       " 'pushed': 288,\n",
       " 'direction': 289,\n",
       " 'part': 290,\n",
       " 'representations': 291,\n",
       " \"childlessness'\": 292,\n",
       " 'p145': 293,\n",
       " 'decisions': 294,\n",
       " 'we': 295,\n",
       " 'lonely': 296,\n",
       " 'compensate': 297,\n",
       " 'affection': 298,\n",
       " 'usually': 299,\n",
       " 'totally': 300,\n",
       " 'supported': 301,\n",
       " 'coldwell': 302,\n",
       " \"'one's\": 303,\n",
       " 'pleasure': 304,\n",
       " \"substitutable'\": 305,\n",
       " '1982': 306,\n",
       " 'rewards': 307,\n",
       " 'carry': 308,\n",
       " 'expansion': 309,\n",
       " 'enabling': 310,\n",
       " 'moral': 311,\n",
       " 'altruistic': 312,\n",
       " 'people': 313,\n",
       " 'producing': 314,\n",
       " 'reproducing': 315,\n",
       " 'characteristics': 316,\n",
       " 'perhaps': 317,\n",
       " 'after': 318,\n",
       " 'death': 319,\n",
       " 'considered': 320,\n",
       " 'reality': 321,\n",
       " 'attracting': 322,\n",
       " 'influential': 323,\n",
       " 'lancaster': 324,\n",
       " 'profit': 325,\n",
       " 'access': 326,\n",
       " 'housing': 327,\n",
       " '1965': 328,\n",
       " 'p364': 329,\n",
       " 'felt': 330,\n",
       " 'previous': 331,\n",
       " 'times': 332,\n",
       " 'economically': 333,\n",
       " 'needed': 334,\n",
       " 'income': 335,\n",
       " 'instead': 336,\n",
       " 'input': 337,\n",
       " 'coleman': 338,\n",
       " 'claims': 339,\n",
       " \"'social\": 340,\n",
       " \"capital'\": 341,\n",
       " '1988': 342,\n",
       " 'p337': 343,\n",
       " 'might': 344,\n",
       " 'development': 345,\n",
       " 'beneficial': 346,\n",
       " 'standings': 347,\n",
       " 'network': 348,\n",
       " 'parent': 349,\n",
       " 'signals': 350,\n",
       " 'adult': 351,\n",
       " 'result': 352,\n",
       " 'acceptance': 353,\n",
       " 'prestigious': 354,\n",
       " 'groups': 355,\n",
       " 'chance': 356,\n",
       " 'mobility': 357,\n",
       " 'workplaces': 358,\n",
       " 'reward': 359,\n",
       " 'mature': 360,\n",
       " 'responsible': 361,\n",
       " 'applicable': 362,\n",
       " 'male': 363,\n",
       " 'if': 364,\n",
       " 'man': 365,\n",
       " 'promotion': 366,\n",
       " 'whole': 367,\n",
       " 'family': 368,\n",
       " 'differently': 369,\n",
       " 'suggested': 370,\n",
       " 'produce': 371,\n",
       " 'better': 372,\n",
       " 'kin': 373,\n",
       " 'networks': 374,\n",
       " 'physical': 375,\n",
       " 'support': 376,\n",
       " 'achieved': 377,\n",
       " 'specifically': 378,\n",
       " 'glorified': 379,\n",
       " 'regarded': 380,\n",
       " 'highly': 381,\n",
       " 'give': 382,\n",
       " 'nurturing': 383,\n",
       " 'naturally': 384,\n",
       " 'linked': 385,\n",
       " 'control': 386,\n",
       " 'over': 387,\n",
       " 'area': 388,\n",
       " 'another': 389,\n",
       " 'created': 390,\n",
       " 'feared': 391,\n",
       " 'resource': 392,\n",
       " 'individual': 393,\n",
       " 'often': 394,\n",
       " 'affect': 395,\n",
       " 'subtle': 396,\n",
       " 'background': 397,\n",
       " 'fulfilment': 398,\n",
       " 'established': 399,\n",
       " 'patriarchal': 400,\n",
       " 'ideology': 401,\n",
       " 'particular': 402,\n",
       " 'behaviour': 403,\n",
       " 'heterosexual': 404,\n",
       " 'next': 405,\n",
       " 'step': 406,\n",
       " 'getting': 407,\n",
       " 'married': 408,\n",
       " 'reinforced': 409,\n",
       " 'strong': 410,\n",
       " 'historical': 411,\n",
       " 'link': 412,\n",
       " \"'true\": 413,\n",
       " \"womanhood'\": 414,\n",
       " 'unless': 415,\n",
       " 'biological': 416,\n",
       " 'ideological': 417,\n",
       " 'goals': 418,\n",
       " 'respectable': 419,\n",
       " 'our': 420,\n",
       " '1995': 421,\n",
       " 'religious': 422,\n",
       " 'political': 423,\n",
       " 'scientific': 424,\n",
       " 'leaders': 425,\n",
       " 'stress': 426,\n",
       " 'fulfilled': 427,\n",
       " 'supports': 428,\n",
       " 'highlighting': 429,\n",
       " 'essentialist': 430,\n",
       " 'deterministic': 431,\n",
       " 'fixed': 432,\n",
       " 'inevitably': 433,\n",
       " 'central': 434,\n",
       " 'feminine': 435,\n",
       " 'firmly': 436,\n",
       " 'entrenched': 437,\n",
       " 'industrial': 438,\n",
       " 'urban': 439,\n",
       " 'rural': 440,\n",
       " \"societies'\": 441,\n",
       " 'p141': 442,\n",
       " 'discourse': 443,\n",
       " 'placing': 444,\n",
       " 'essential': 445,\n",
       " 'defining': 446,\n",
       " 'ensures': 447,\n",
       " 'without': 448,\n",
       " 'involuntarily': 449,\n",
       " 'failed': 450,\n",
       " 'proper': 451,\n",
       " 'selfish': 452,\n",
       " 'immoral': 453,\n",
       " 'signifier': 454,\n",
       " 'normality': 455,\n",
       " \"'normal\": 456,\n",
       " \"natural'\": 457,\n",
       " 'nation': 458,\n",
       " 'relies': 459,\n",
       " 'its': 460,\n",
       " 'continuation': 461,\n",
       " 'interest': 462,\n",
       " 'levels': 463,\n",
       " 'fertility': 464,\n",
       " 'tries': 465,\n",
       " 'encourage': 466,\n",
       " 'reproduce': 467,\n",
       " 'done': 468,\n",
       " 'reinforcing': 469,\n",
       " 'abortion': 470,\n",
       " 'contraception': 471,\n",
       " 'controlled': 472,\n",
       " 'involved': 473,\n",
       " 'become': 474,\n",
       " 'mother': 475,\n",
       " 'promote': 476,\n",
       " 'main': 477,\n",
       " 'make': 478,\n",
       " 'happy': 479,\n",
       " 'order': 480,\n",
       " 'fulfil': 481,\n",
       " 'role': 482,\n",
       " 'attributes': 483,\n",
       " 'consequently': 484,\n",
       " 'running': 485,\n",
       " 'despite': 486,\n",
       " 'dominant': 487,\n",
       " 'down': 488,\n",
       " 'infertility': 489,\n",
       " 'cases': 490,\n",
       " 'issue': 491,\n",
       " 'voluntary': 492,\n",
       " 'unable': 493,\n",
       " 'effects': 494,\n",
       " 'child': 495,\n",
       " 'figure': 496,\n",
       " 'others': 497,\n",
       " 'due': 498,\n",
       " 'crime': 499,\n",
       " 'poverty': 500,\n",
       " 'world': 501,\n",
       " 'suitable': 502,\n",
       " 'bring': 503,\n",
       " 'up': 504,\n",
       " 'conditions': 505,\n",
       " 'town': 506,\n",
       " 'lack': 507,\n",
       " 'space': 508,\n",
       " 'equitable': 509,\n",
       " 'significant': 510,\n",
       " 'already': 511,\n",
       " 'carried': 512,\n",
       " 'either': 513,\n",
       " 'siblings': 514,\n",
       " 'endure': 515,\n",
       " 'again': 516,\n",
       " 'assets': 517,\n",
       " 'fact': 518,\n",
       " 'very': 519,\n",
       " 'costly': 520,\n",
       " 'cannot': 521,\n",
       " 'afford': 522,\n",
       " 'fears': 523,\n",
       " 'about': 524,\n",
       " 'deciding': 525,\n",
       " 'viable': 526,\n",
       " 'option': 527,\n",
       " 'burden': 528,\n",
       " 'too': 529,\n",
       " 'high': 530,\n",
       " 'price': 531,\n",
       " 'pay': 532,\n",
       " 'aspirations': 533,\n",
       " 'standards': 534,\n",
       " 'cost': 535,\n",
       " 'links': 536,\n",
       " 'desired': 537,\n",
       " 'other': 538,\n",
       " 'open': 539,\n",
       " 'increasing': 540,\n",
       " 'participation': 541,\n",
       " 'able': 542,\n",
       " 'develop': 543,\n",
       " 'careers': 544,\n",
       " 'lose': 545,\n",
       " 'interests': 546,\n",
       " 'separate': 547,\n",
       " 'believe': 548,\n",
       " 'places': 549,\n",
       " 'restrictions': 550,\n",
       " 'possibilities': 551,\n",
       " 'sort': 552,\n",
       " 'desire': 553,\n",
       " \"'freedom\": 554,\n",
       " \"to'\": 555,\n",
       " 'ties': 556,\n",
       " 'emotionally': 557,\n",
       " 'different': 558,\n",
       " 'flexibility': 559,\n",
       " 'guilt': 560,\n",
       " 'did': 561,\n",
       " 'under': 562,\n",
       " 'was': 563,\n",
       " 'supposed': 564,\n",
       " 'feeling': 565,\n",
       " 'enforce': 566,\n",
       " 'break': 567,\n",
       " 'dependence': 568,\n",
       " 'confinement': 569,\n",
       " 'home': 570,\n",
       " 'division': 571,\n",
       " 'labour': 572,\n",
       " 'desires': 573,\n",
       " 'does': 574,\n",
       " 'involve': 575,\n",
       " 'made': 576,\n",
       " 'small': 577,\n",
       " 'career': 578,\n",
       " 'emergence': 579,\n",
       " 'albeit': 580,\n",
       " 'mainstream': 581,\n",
       " 'allow': 582,\n",
       " 'greater': 583,\n",
       " 'post': 584,\n",
       " 'model': 585,\n",
       " \"reproduction'\": 586,\n",
       " 'forces': 587,\n",
       " 'impacted': 588,\n",
       " 'synonymous': 589,\n",
       " 'influencing': 590,\n",
       " 'new': 591,\n",
       " 'ideals': 592,\n",
       " 'responses': 593,\n",
       " 'results': 594,\n",
       " 'overall': 595,\n",
       " 'ideal': 596,\n",
       " 'impacts': 597,\n",
       " 'including': 598,\n",
       " 'choosing': 599,\n",
       " 'same': 600,\n",
       " 'conclusion': 601,\n",
       " 'influenced': 602,\n",
       " 'variety': 603,\n",
       " 'ingrained': 604,\n",
       " 'likes': 605}"
      ]
     },
     "execution_count": 155,
     "metadata": {},
     "output_type": "execute_result"
    }
   ],
   "source": [
    "vocab_dict"
   ]
  },
  {
   "cell_type": "code",
   "execution_count": 156,
   "metadata": {
    "id": "y6rvcZQ3uU3Y"
   },
   "outputs": [],
   "source": [
    "vals=list(vocab_dict.values())\n",
    "keys=list(vocab_dict.keys())\n",
    "#keys[vals.index(1)]"
   ]
  },
  {
   "cell_type": "code",
   "execution_count": 157,
   "metadata": {
    "id": "rDNcHMcfNzQ4"
   },
   "outputs": [],
   "source": [
    "vocab_size=len(keys)"
   ]
  },
  {
   "cell_type": "code",
   "execution_count": 158,
   "metadata": {
    "colab": {
     "base_uri": "https://localhost:8080/"
    },
    "id": "8IQlLxHeRgBz",
    "outputId": "9b014933-588e-4583-bb22-157b662c53cc"
   },
   "outputs": [
    {
     "data": {
      "text/plain": [
       "605"
      ]
     },
     "execution_count": 158,
     "metadata": {},
     "output_type": "execute_result"
    }
   ],
   "source": [
    "vocab_size"
   ]
  },
  {
   "cell_type": "code",
   "execution_count": 159,
   "metadata": {
    "colab": {
     "base_uri": "https://localhost:8080/"
    },
    "id": "vif75frJaldU",
    "outputId": "c682780f-7054-47ef-aa67-07b34e5ad251"
   },
   "outputs": [
    {
     "data": {
      "text/plain": [
       "(606, 50)"
      ]
     },
     "execution_count": 159,
     "metadata": {},
     "output_type": "execute_result"
    }
   ],
   "source": [
    "embedding_array=np.zeros((vocab_size+1,50))\n",
    "embedding_array.shape"
   ]
  },
  {
   "cell_type": "code",
   "execution_count": 160,
   "metadata": {
    "id": "BeSS4bYAZQW8"
   },
   "outputs": [],
   "source": [
    "for word,i in tokenizer.word_index.items():\n",
    "    if word in embeddings_dict:\n",
    "        embedding_vector=embeddings_dict[word]\n",
    "  #if embedding_vector is not None:\n",
    "    embedding_array[i]=embedding_vector"
   ]
  },
  {
   "cell_type": "code",
   "execution_count": 161,
   "metadata": {
    "colab": {
     "base_uri": "https://localhost:8080/",
     "height": 55
    },
    "id": "I8xo3tjZfCUT",
    "outputId": "7ceabfb3-6f1a-484a-9cb8-5b6be2dba63e"
   },
   "outputs": [
    {
     "data": {
      "text/plain": [
       "'for word,i in tokenizer.word_index.items():\\n  embedding_vector=embedding_file(word).vector\\n  if embedding_vector is not None:\\n    embedding_array[i]=embedding_vector'"
      ]
     },
     "execution_count": 161,
     "metadata": {},
     "output_type": "execute_result"
    }
   ],
   "source": [
    "\"\"\"for word,i in tokenizer.word_index.items():\n",
    "  embedding_vector=embedding_file(word).vector\n",
    "  if embedding_vector is not None:\n",
    "    embedding_array[i]=embedding_vector\"\"\""
   ]
  },
  {
   "cell_type": "code",
   "execution_count": 162,
   "metadata": {
    "id": "bIj5PtCIZyt2"
   },
   "outputs": [],
   "source": [
    "#embedding_array[7306]"
   ]
  },
  {
   "cell_type": "code",
   "execution_count": 163,
   "metadata": {
    "colab": {
     "base_uri": "https://localhost:8080/"
    },
    "id": "i6-XEAC_Vu_Y",
    "outputId": "1aedd227-73da-4827-a77e-1570ca0f7a22"
   },
   "outputs": [
    {
     "data": {
      "text/plain": [
       "2226"
      ]
     },
     "execution_count": 163,
     "metadata": {},
     "output_type": "execute_result"
    }
   ],
   "source": [
    "len(x[0])"
   ]
  },
  {
   "cell_type": "code",
   "execution_count": 164,
   "metadata": {
    "colab": {
     "base_uri": "https://localhost:8080/"
    },
    "id": "1tVjyvXhTNJR",
    "outputId": "2061e58c-06e0-4122-8e7d-cc2d97a5d48c"
   },
   "outputs": [
    {
     "data": {
      "text/plain": [
       "[114, 33, 150, 151, 12, 39, 241, 2, 4, 28, 6, 242, 2, 115, 87]"
      ]
     },
     "execution_count": 164,
     "metadata": {},
     "output_type": "execute_result"
    }
   ],
   "source": [
    "x[0][0:15]"
   ]
  },
  {
   "cell_type": "code",
   "execution_count": 165,
   "metadata": {
    "id": "rzuDqCqaSTE0"
   },
   "outputs": [],
   "source": [
    "inner_list=[]\n",
    "X={}\n",
    "corpus_length=len(x[0])-seq_len\n",
    "k=0\n",
    "\n",
    "for i in range(0,corpus_length,seq_len):\n",
    "  inner_list.clear()\n",
    "  for j in range(i,i+seq_len):\n",
    "    inner_list.append(x[0][j])\n",
    "  X[k]=inner_list[:]\n",
    "  k=k+1"
   ]
  },
  {
   "cell_type": "code",
   "execution_count": 166,
   "metadata": {
    "id": "V2gTJPZikPnq"
   },
   "outputs": [],
   "source": [
    "#list(X.values())\n",
    "x_train=[]\n",
    "y_train=[]\n",
    "for it in list(X.values()):\n",
    "  x_train.append(it[0:-1])\n",
    "  y_train.append(it[-1])"
   ]
  },
  {
   "cell_type": "code",
   "execution_count": 167,
   "metadata": {
    "colab": {
     "base_uri": "https://localhost:8080/"
    },
    "id": "_mNwoEZem2fX",
    "outputId": "578920e0-270d-4de1-a7bc-a118f68f10db"
   },
   "outputs": [
    {
     "data": {
      "text/plain": [
       "[150, 243, 117, 2, 4, 18, 244, 28, 245]"
      ]
     },
     "execution_count": 167,
     "metadata": {},
     "output_type": "execute_result"
    }
   ],
   "source": [
    "x_train[3]"
   ]
  },
  {
   "cell_type": "code",
   "execution_count": 168,
   "metadata": {
    "colab": {
     "base_uri": "https://localhost:8080/"
    },
    "id": "O0ACQB-eWHWV",
    "outputId": "ea363548-b9d1-4056-98e1-c970740d2c5a"
   },
   "outputs": [
    {
     "data": {
      "text/plain": [
       "222"
      ]
     },
     "execution_count": 168,
     "metadata": {},
     "output_type": "execute_result"
    }
   ],
   "source": [
    "len(x_train)"
   ]
  },
  {
   "cell_type": "code",
   "execution_count": 169,
   "metadata": {
    "id": "n3pVZIEFTJWL"
   },
   "outputs": [],
   "source": [
    "X=np.array(x_train)\n",
    "#input_seq.shape\n",
    "y=np.array(y_train).reshape(len(y_train),1)\n",
    "#target=tf.reshape(tf.constant(y_train),[len(y_train),1])"
   ]
  },
  {
   "cell_type": "code",
   "execution_count": 170,
   "metadata": {
    "colab": {
     "base_uri": "https://localhost:8080/"
    },
    "id": "-LgTXADBLWod",
    "outputId": "f439b03a-836f-4e92-9049-a154b241325f"
   },
   "outputs": [
    {
     "data": {
      "text/plain": [
       "(222, 1)"
      ]
     },
     "execution_count": 170,
     "metadata": {},
     "output_type": "execute_result"
    }
   ],
   "source": [
    "y.shape"
   ]
  },
  {
   "cell_type": "code",
   "execution_count": 171,
   "metadata": {
    "id": "K963m-_GKRoK"
   },
   "outputs": [],
   "source": [
    "X_train,X_test,y_train,y_test=train_test_split(X,y,test_size=0.3)"
   ]
  },
  {
   "cell_type": "code",
   "execution_count": 172,
   "metadata": {
    "colab": {
     "base_uri": "https://localhost:8080/"
    },
    "id": "SAvkBoN6Ls5L",
    "outputId": "ad9901de-c133-43c5-ac24-c1a740cb2ba0"
   },
   "outputs": [
    {
     "data": {
      "text/plain": [
       "(155, 9)"
      ]
     },
     "execution_count": 172,
     "metadata": {},
     "output_type": "execute_result"
    }
   ],
   "source": [
    "X_train.shape"
   ]
  },
  {
   "cell_type": "code",
   "execution_count": 173,
   "metadata": {
    "id": "DNlVNBx1LwLB"
   },
   "outputs": [
    {
     "data": {
      "text/plain": [
       "array([[  9],\n",
       "       [104],\n",
       "       [  7],\n",
       "       [  4],\n",
       "       [ 51],\n",
       "       [  1],\n",
       "       [440],\n",
       "       [ 19],\n",
       "       [  3],\n",
       "       [ 10],\n",
       "       [  5],\n",
       "       [ 47],\n",
       "       [ 30],\n",
       "       [  5],\n",
       "       [  7],\n",
       "       [  5],\n",
       "       [  2],\n",
       "       [ 35],\n",
       "       [406],\n",
       "       [ 10],\n",
       "       [ 57],\n",
       "       [ 44],\n",
       "       [  2],\n",
       "       [  9],\n",
       "       [  7],\n",
       "       [113],\n",
       "       [ 36],\n",
       "       [  1],\n",
       "       [212],\n",
       "       [  4],\n",
       "       [ 36],\n",
       "       [  1],\n",
       "       [ 14],\n",
       "       [  2],\n",
       "       [156],\n",
       "       [175],\n",
       "       [319],\n",
       "       [ 11],\n",
       "       [200],\n",
       "       [  3],\n",
       "       [454],\n",
       "       [218],\n",
       "       [141],\n",
       "       [580],\n",
       "       [ 14],\n",
       "       [427],\n",
       "       [  3],\n",
       "       [ 87],\n",
       "       [  9],\n",
       "       [ 67],\n",
       "       [232],\n",
       "       [  8],\n",
       "       [ 92],\n",
       "       [  1],\n",
       "       [ 95],\n",
       "       [ 35],\n",
       "       [ 44],\n",
       "       [  7],\n",
       "       [ 23],\n",
       "       [  8],\n",
       "       [246],\n",
       "       [ 26],\n",
       "       [207],\n",
       "       [ 43],\n",
       "       [  8],\n",
       "       [  8],\n",
       "       [ 93],\n",
       "       [ 18],\n",
       "       [ 15],\n",
       "       [  3],\n",
       "       [ 47],\n",
       "       [ 15],\n",
       "       [  7],\n",
       "       [  2],\n",
       "       [ 66],\n",
       "       [170],\n",
       "       [109],\n",
       "       [ 24],\n",
       "       [  2],\n",
       "       [  3],\n",
       "       [ 79],\n",
       "       [ 12],\n",
       "       [  5],\n",
       "       [ 21],\n",
       "       [ 41],\n",
       "       [  1],\n",
       "       [ 64],\n",
       "       [  3],\n",
       "       [ 78],\n",
       "       [269],\n",
       "       [549],\n",
       "       [  6],\n",
       "       [  7],\n",
       "       [ 19],\n",
       "       [ 33],\n",
       "       [517],\n",
       "       [148],\n",
       "       [ 15],\n",
       "       [ 11],\n",
       "       [ 52],\n",
       "       [209],\n",
       "       [  2],\n",
       "       [  1],\n",
       "       [ 10],\n",
       "       [  6],\n",
       "       [ 63],\n",
       "       [147],\n",
       "       [109],\n",
       "       [  5],\n",
       "       [  3],\n",
       "       [ 63],\n",
       "       [115],\n",
       "       [110],\n",
       "       [ 81],\n",
       "       [  6],\n",
       "       [ 15],\n",
       "       [480],\n",
       "       [ 15],\n",
       "       [ 33],\n",
       "       [  1],\n",
       "       [ 12],\n",
       "       [  2],\n",
       "       [161],\n",
       "       [ 16],\n",
       "       [255],\n",
       "       [145],\n",
       "       [556],\n",
       "       [182],\n",
       "       [491],\n",
       "       [ 25],\n",
       "       [ 84],\n",
       "       [ 31],\n",
       "       [ 26],\n",
       "       [  6],\n",
       "       [  1],\n",
       "       [116],\n",
       "       [ 11],\n",
       "       [ 11],\n",
       "       [ 90],\n",
       "       [ 26],\n",
       "       [104],\n",
       "       [334],\n",
       "       [  6],\n",
       "       [ 44],\n",
       "       [230],\n",
       "       [112],\n",
       "       [ 99],\n",
       "       [108],\n",
       "       [  4],\n",
       "       [ 19],\n",
       "       [  7],\n",
       "       [ 41],\n",
       "       [489],\n",
       "       [ 48],\n",
       "       [126]])"
      ]
     },
     "execution_count": 173,
     "metadata": {},
     "output_type": "execute_result"
    }
   ],
   "source": [
    "y_train"
   ]
  },
  {
   "cell_type": "code",
   "execution_count": 174,
   "metadata": {
    "id": "87Uy9xVrKJ36"
   },
   "outputs": [],
   "source": [
    "input_seq,test_seq,y_true,y_hat=tf.constant(X_train),tf.constant(X_test),tf.constant(y_train),tf.constant(y_test)"
   ]
  },
  {
   "cell_type": "code",
   "execution_count": 175,
   "metadata": {
    "colab": {
     "base_uri": "https://localhost:8080/"
    },
    "id": "27aW3YsEMtgx",
    "outputId": "90649db4-b9bb-4359-8802-03ff28573dc8"
   },
   "outputs": [
    {
     "data": {
      "text/plain": [
       "<tf.Tensor: shape=(155, 9), dtype=int32, numpy=\n",
       "array([[ 54,  13,   2, ...,  91,  23,  13],\n",
       "       [  6, 119,  10, ...,  41,   8, 419],\n",
       "       [123,  18,   8, ..., 585,  10, 586],\n",
       "       ...,\n",
       "       [  4,   9,   5, ...,  36, 488,   2],\n",
       "       [ 68, 170,  17, ...,  69,   7, 601],\n",
       "       [  5,  70, 486, ...,   7,  27,  13]])>"
      ]
     },
     "execution_count": 175,
     "metadata": {},
     "output_type": "execute_result"
    }
   ],
   "source": [
    "input_seq"
   ]
  },
  {
   "cell_type": "code",
   "execution_count": 176,
   "metadata": {
    "colab": {
     "base_uri": "https://localhost:8080/"
    },
    "id": "pdqPr0qBOZ_j",
    "outputId": "cd94454e-5fbf-46a4-9463-3ae596ad1fbd"
   },
   "outputs": [
    {
     "data": {
      "text/plain": [
       "<tf.Tensor: shape=(), dtype=int32, numpy=605>"
      ]
     },
     "execution_count": 176,
     "metadata": {},
     "output_type": "execute_result"
    }
   ],
   "source": [
    "tf.reduce_max(input_seq)+1"
   ]
  },
  {
   "cell_type": "code",
   "execution_count": 177,
   "metadata": {
    "id": "3NIzBxrMkJO-"
   },
   "outputs": [
    {
     "name": "stderr",
     "output_type": "stream",
     "text": [
      "C:\\Users\\user\\anaconda3\\Lib\\site-packages\\keras\\src\\layers\\core\\embedding.py:90: UserWarning: Argument `input_length` is deprecated. Just remove it.\n",
      "  warnings.warn(\n"
     ]
    }
   ],
   "source": [
    "input=Input(shape=(seq_len-1,))\n",
    "x=Embedding(input_dim=vocab_size+1,input_length=seq_len-1,output_dim=50,weights=[embedding_array],trainable=True)(input)\n",
    "x=SimpleRNN(128)(x)\n",
    "x=Dense(64)(x)\n",
    "x=Dense(32)(x)\n",
    "output=Dense(vocab_size,activation=\"softmax\")(x)\n",
    "model=Model(input,output)"
   ]
  },
  {
   "cell_type": "code",
   "execution_count": 178,
   "metadata": {
    "id": "MbsSkoNZQ9dC"
   },
   "outputs": [
    {
     "data": {
      "text/html": [
       "<pre style=\"white-space:pre;overflow-x:auto;line-height:normal;font-family:Menlo,'DejaVu Sans Mono',consolas,'Courier New',monospace\"><span style=\"font-weight: bold\">Model: \"functional_5\"</span>\n",
       "</pre>\n"
      ],
      "text/plain": [
       "\u001b[1mModel: \"functional_5\"\u001b[0m\n"
      ]
     },
     "metadata": {},
     "output_type": "display_data"
    },
    {
     "data": {
      "text/html": [
       "<pre style=\"white-space:pre;overflow-x:auto;line-height:normal;font-family:Menlo,'DejaVu Sans Mono',consolas,'Courier New',monospace\">┏━━━━━━━━━━━━━━━━━━━━━━━━━━━━━━━━━┳━━━━━━━━━━━━━━━━━━━━━━━━┳━━━━━━━━━━━━━━━┓\n",
       "┃<span style=\"font-weight: bold\"> Layer (type)                    </span>┃<span style=\"font-weight: bold\"> Output Shape           </span>┃<span style=\"font-weight: bold\">       Param # </span>┃\n",
       "┡━━━━━━━━━━━━━━━━━━━━━━━━━━━━━━━━━╇━━━━━━━━━━━━━━━━━━━━━━━━╇━━━━━━━━━━━━━━━┩\n",
       "│ input_layer_2 (<span style=\"color: #0087ff; text-decoration-color: #0087ff\">InputLayer</span>)      │ (<span style=\"color: #00d7ff; text-decoration-color: #00d7ff\">None</span>, <span style=\"color: #00af00; text-decoration-color: #00af00\">9</span>)              │             <span style=\"color: #00af00; text-decoration-color: #00af00\">0</span> │\n",
       "├─────────────────────────────────┼────────────────────────┼───────────────┤\n",
       "│ embedding_2 (<span style=\"color: #0087ff; text-decoration-color: #0087ff\">Embedding</span>)         │ (<span style=\"color: #00d7ff; text-decoration-color: #00d7ff\">None</span>, <span style=\"color: #00af00; text-decoration-color: #00af00\">9</span>, <span style=\"color: #00af00; text-decoration-color: #00af00\">50</span>)          │        <span style=\"color: #00af00; text-decoration-color: #00af00\">30,300</span> │\n",
       "├─────────────────────────────────┼────────────────────────┼───────────────┤\n",
       "│ simple_rnn_2 (<span style=\"color: #0087ff; text-decoration-color: #0087ff\">SimpleRNN</span>)        │ (<span style=\"color: #00d7ff; text-decoration-color: #00d7ff\">None</span>, <span style=\"color: #00af00; text-decoration-color: #00af00\">128</span>)            │        <span style=\"color: #00af00; text-decoration-color: #00af00\">22,912</span> │\n",
       "├─────────────────────────────────┼────────────────────────┼───────────────┤\n",
       "│ dense_6 (<span style=\"color: #0087ff; text-decoration-color: #0087ff\">Dense</span>)                 │ (<span style=\"color: #00d7ff; text-decoration-color: #00d7ff\">None</span>, <span style=\"color: #00af00; text-decoration-color: #00af00\">64</span>)             │         <span style=\"color: #00af00; text-decoration-color: #00af00\">8,256</span> │\n",
       "├─────────────────────────────────┼────────────────────────┼───────────────┤\n",
       "│ dense_7 (<span style=\"color: #0087ff; text-decoration-color: #0087ff\">Dense</span>)                 │ (<span style=\"color: #00d7ff; text-decoration-color: #00d7ff\">None</span>, <span style=\"color: #00af00; text-decoration-color: #00af00\">32</span>)             │         <span style=\"color: #00af00; text-decoration-color: #00af00\">2,080</span> │\n",
       "├─────────────────────────────────┼────────────────────────┼───────────────┤\n",
       "│ dense_8 (<span style=\"color: #0087ff; text-decoration-color: #0087ff\">Dense</span>)                 │ (<span style=\"color: #00d7ff; text-decoration-color: #00d7ff\">None</span>, <span style=\"color: #00af00; text-decoration-color: #00af00\">605</span>)            │        <span style=\"color: #00af00; text-decoration-color: #00af00\">19,965</span> │\n",
       "└─────────────────────────────────┴────────────────────────┴───────────────┘\n",
       "</pre>\n"
      ],
      "text/plain": [
       "┏━━━━━━━━━━━━━━━━━━━━━━━━━━━━━━━━━┳━━━━━━━━━━━━━━━━━━━━━━━━┳━━━━━━━━━━━━━━━┓\n",
       "┃\u001b[1m \u001b[0m\u001b[1mLayer (type)                   \u001b[0m\u001b[1m \u001b[0m┃\u001b[1m \u001b[0m\u001b[1mOutput Shape          \u001b[0m\u001b[1m \u001b[0m┃\u001b[1m \u001b[0m\u001b[1m      Param #\u001b[0m\u001b[1m \u001b[0m┃\n",
       "┡━━━━━━━━━━━━━━━━━━━━━━━━━━━━━━━━━╇━━━━━━━━━━━━━━━━━━━━━━━━╇━━━━━━━━━━━━━━━┩\n",
       "│ input_layer_2 (\u001b[38;5;33mInputLayer\u001b[0m)      │ (\u001b[38;5;45mNone\u001b[0m, \u001b[38;5;34m9\u001b[0m)              │             \u001b[38;5;34m0\u001b[0m │\n",
       "├─────────────────────────────────┼────────────────────────┼───────────────┤\n",
       "│ embedding_2 (\u001b[38;5;33mEmbedding\u001b[0m)         │ (\u001b[38;5;45mNone\u001b[0m, \u001b[38;5;34m9\u001b[0m, \u001b[38;5;34m50\u001b[0m)          │        \u001b[38;5;34m30,300\u001b[0m │\n",
       "├─────────────────────────────────┼────────────────────────┼───────────────┤\n",
       "│ simple_rnn_2 (\u001b[38;5;33mSimpleRNN\u001b[0m)        │ (\u001b[38;5;45mNone\u001b[0m, \u001b[38;5;34m128\u001b[0m)            │        \u001b[38;5;34m22,912\u001b[0m │\n",
       "├─────────────────────────────────┼────────────────────────┼───────────────┤\n",
       "│ dense_6 (\u001b[38;5;33mDense\u001b[0m)                 │ (\u001b[38;5;45mNone\u001b[0m, \u001b[38;5;34m64\u001b[0m)             │         \u001b[38;5;34m8,256\u001b[0m │\n",
       "├─────────────────────────────────┼────────────────────────┼───────────────┤\n",
       "│ dense_7 (\u001b[38;5;33mDense\u001b[0m)                 │ (\u001b[38;5;45mNone\u001b[0m, \u001b[38;5;34m32\u001b[0m)             │         \u001b[38;5;34m2,080\u001b[0m │\n",
       "├─────────────────────────────────┼────────────────────────┼───────────────┤\n",
       "│ dense_8 (\u001b[38;5;33mDense\u001b[0m)                 │ (\u001b[38;5;45mNone\u001b[0m, \u001b[38;5;34m605\u001b[0m)            │        \u001b[38;5;34m19,965\u001b[0m │\n",
       "└─────────────────────────────────┴────────────────────────┴───────────────┘\n"
      ]
     },
     "metadata": {},
     "output_type": "display_data"
    },
    {
     "data": {
      "text/html": [
       "<pre style=\"white-space:pre;overflow-x:auto;line-height:normal;font-family:Menlo,'DejaVu Sans Mono',consolas,'Courier New',monospace\"><span style=\"font-weight: bold\"> Total params: </span><span style=\"color: #00af00; text-decoration-color: #00af00\">83,513</span> (326.22 KB)\n",
       "</pre>\n"
      ],
      "text/plain": [
       "\u001b[1m Total params: \u001b[0m\u001b[38;5;34m83,513\u001b[0m (326.22 KB)\n"
      ]
     },
     "metadata": {},
     "output_type": "display_data"
    },
    {
     "data": {
      "text/html": [
       "<pre style=\"white-space:pre;overflow-x:auto;line-height:normal;font-family:Menlo,'DejaVu Sans Mono',consolas,'Courier New',monospace\"><span style=\"font-weight: bold\"> Trainable params: </span><span style=\"color: #00af00; text-decoration-color: #00af00\">83,513</span> (326.22 KB)\n",
       "</pre>\n"
      ],
      "text/plain": [
       "\u001b[1m Trainable params: \u001b[0m\u001b[38;5;34m83,513\u001b[0m (326.22 KB)\n"
      ]
     },
     "metadata": {},
     "output_type": "display_data"
    },
    {
     "data": {
      "text/html": [
       "<pre style=\"white-space:pre;overflow-x:auto;line-height:normal;font-family:Menlo,'DejaVu Sans Mono',consolas,'Courier New',monospace\"><span style=\"font-weight: bold\"> Non-trainable params: </span><span style=\"color: #00af00; text-decoration-color: #00af00\">0</span> (0.00 B)\n",
       "</pre>\n"
      ],
      "text/plain": [
       "\u001b[1m Non-trainable params: \u001b[0m\u001b[38;5;34m0\u001b[0m (0.00 B)\n"
      ]
     },
     "metadata": {},
     "output_type": "display_data"
    }
   ],
   "source": [
    "model.summary()"
   ]
  },
  {
   "cell_type": "code",
   "execution_count": 179,
   "metadata": {
    "id": "Nmoai3BQocfR"
   },
   "outputs": [],
   "source": [
    "model.compile(optimizer=Adam(0.01),loss=tf.keras.losses.sparse_categorical_crossentropy,metrics=['accuracy'])"
   ]
  },
  {
   "cell_type": "code",
   "execution_count": 180,
   "metadata": {
    "colab": {
     "base_uri": "https://localhost:8080/"
    },
    "id": "MzNXbH2joqD0",
    "outputId": "7bf988eb-003b-4c6d-b2d3-fd8c6e48f778"
   },
   "outputs": [
    {
     "name": "stdout",
     "output_type": "stream",
     "text": [
      "Epoch 1/10\n",
      "\u001b[1m5/5\u001b[0m \u001b[32m━━━━━━━━━━━━━━━━━━━━\u001b[0m\u001b[37m\u001b[0m \u001b[1m7s\u001b[0m 10ms/step - accuracy: 0.0121 - loss: 6.3084   \n",
      "Epoch 2/10\n",
      "\u001b[1m5/5\u001b[0m \u001b[32m━━━━━━━━━━━━━━━━━━━━\u001b[0m\u001b[37m\u001b[0m \u001b[1m0s\u001b[0m 9ms/step - accuracy: 0.0441 - loss: 4.8707 \n",
      "Epoch 3/10\n",
      "\u001b[1m5/5\u001b[0m \u001b[32m━━━━━━━━━━━━━━━━━━━━\u001b[0m\u001b[37m\u001b[0m \u001b[1m0s\u001b[0m 8ms/step - accuracy: 0.0454 - loss: 4.1334 \n",
      "Epoch 4/10\n",
      "\u001b[1m5/5\u001b[0m \u001b[32m━━━━━━━━━━━━━━━━━━━━\u001b[0m\u001b[37m\u001b[0m \u001b[1m0s\u001b[0m 11ms/step - accuracy: 0.0965 - loss: 3.9385\n",
      "Epoch 5/10\n",
      "\u001b[1m5/5\u001b[0m \u001b[32m━━━━━━━━━━━━━━━━━━━━\u001b[0m\u001b[37m\u001b[0m \u001b[1m0s\u001b[0m 10ms/step - accuracy: 0.1355 - loss: 3.5069\n",
      "Epoch 6/10\n",
      "\u001b[1m5/5\u001b[0m \u001b[32m━━━━━━━━━━━━━━━━━━━━\u001b[0m\u001b[37m\u001b[0m \u001b[1m0s\u001b[0m 9ms/step - accuracy: 0.1120 - loss: 3.2314 \n",
      "Epoch 7/10\n",
      "\u001b[1m5/5\u001b[0m \u001b[32m━━━━━━━━━━━━━━━━━━━━\u001b[0m\u001b[37m\u001b[0m \u001b[1m0s\u001b[0m 10ms/step - accuracy: 0.2302 - loss: 2.9230\n",
      "Epoch 8/10\n",
      "\u001b[1m5/5\u001b[0m \u001b[32m━━━━━━━━━━━━━━━━━━━━\u001b[0m\u001b[37m\u001b[0m \u001b[1m0s\u001b[0m 10ms/step - accuracy: 0.3553 - loss: 2.2507\n",
      "Epoch 9/10\n",
      "\u001b[1m5/5\u001b[0m \u001b[32m━━━━━━━━━━━━━━━━━━━━\u001b[0m\u001b[37m\u001b[0m \u001b[1m0s\u001b[0m 8ms/step - accuracy: 0.5462 - loss: 1.6765 \n",
      "Epoch 10/10\n",
      "\u001b[1m5/5\u001b[0m \u001b[32m━━━━━━━━━━━━━━━━━━━━\u001b[0m\u001b[37m\u001b[0m \u001b[1m0s\u001b[0m 9ms/step - accuracy: 0.5988 - loss: 1.2636 \n"
     ]
    },
    {
     "data": {
      "text/plain": [
       "<keras.src.callbacks.history.History at 0x286780baa10>"
      ]
     },
     "execution_count": 180,
     "metadata": {},
     "output_type": "execute_result"
    }
   ],
   "source": [
    "model.fit(input_seq,y_true,epochs=10)"
   ]
  },
  {
   "cell_type": "code",
   "execution_count": 181,
   "metadata": {
    "colab": {
     "base_uri": "https://localhost:8080/"
    },
    "id": "iLpi5L4SJSpX",
    "outputId": "ab3d43f0-31d7-44f0-8aea-38392e91f3a3"
   },
   "outputs": [
    {
     "name": "stdout",
     "output_type": "stream",
     "text": [
      "\u001b[1m3/3\u001b[0m \u001b[32m━━━━━━━━━━━━━━━━━━━━\u001b[0m\u001b[37m\u001b[0m \u001b[1m1s\u001b[0m 8ms/step - accuracy: 0.0000e+00 - loss: 13.1489  \n"
     ]
    },
    {
     "data": {
      "text/plain": [
       "[13.06098461151123, 0.0]"
      ]
     },
     "execution_count": 181,
     "metadata": {},
     "output_type": "execute_result"
    }
   ],
   "source": [
    "model.evaluate(test_seq,y_hat)"
   ]
  },
  {
   "cell_type": "code",
   "execution_count": 182,
   "metadata": {
    "colab": {
     "base_uri": "https://localhost:8080/"
    },
    "id": "5JiLY6K5qQQN",
    "outputId": "ece4cbe3-a34e-4a83-ec89-338fd31f1531"
   },
   "outputs": [
    {
     "data": {
      "text/plain": [
       "<tf.Tensor: shape=(1, 9), dtype=int32, numpy=array([[  0, 114,  33, 150, 151,  12,  39, 241,   2]])>"
      ]
     },
     "execution_count": 182,
     "metadata": {},
     "output_type": "execute_result"
    }
   ],
   "source": [
    "#input_text=[\"she was such a good person\"]\n",
    "#input_text=[\"he was such a good person and honestly speaking he did make good use of his\"]\n",
    "input_text=[\"Much more reproductive choice is now available to\"]\n",
    "#input_text=[\"can you please\"]\n",
    "#input_text=[\"marriage is such a beautiful\"]\n",
    "toks=tokenizer.texts_to_sequences(input_text)\n",
    "ins=pad_sequences(toks,maxlen=seq_len-1)\n",
    "input_tensor=tf.constant(ins)\n",
    "input_tensor"
   ]
  },
  {
   "cell_type": "code",
   "execution_count": 183,
   "metadata": {
    "colab": {
     "base_uri": "https://localhost:8080/",
     "height": 36
    },
    "id": "J7hHHunLrnRx",
    "outputId": "9689a8db-f07a-4a36-b411-257590fd8666"
   },
   "outputs": [
    {
     "name": "stdout",
     "output_type": "stream",
     "text": [
      "\u001b[1m1/1\u001b[0m \u001b[32m━━━━━━━━━━━━━━━━━━━━\u001b[0m\u001b[37m\u001b[0m \u001b[1m0s\u001b[0m 380ms/step\n"
     ]
    },
    {
     "data": {
      "text/plain": [
       "'the'"
      ]
     },
     "execution_count": 183,
     "metadata": {},
     "output_type": "execute_result"
    }
   ],
   "source": [
    "pred=model.predict(input_tensor)\n",
    "keys[vals.index(np.argmax(pred))]"
   ]
  },
  {
   "cell_type": "code",
   "execution_count": 184,
   "metadata": {
    "colab": {
     "base_uri": "https://localhost:8080/",
     "height": 36
    },
    "id": "ABZ66jz4dtDd",
    "outputId": "e8014928-395b-484b-dfaf-2e0ad5edf6e1"
   },
   "outputs": [
    {
     "data": {
      "text/plain": [
       "'Much more reproductive choice is now available to the'"
      ]
     },
     "execution_count": 184,
     "metadata": {},
     "output_type": "execute_result"
    }
   ],
   "source": [
    "input_text[0]=input_text[0]+' '+keys[vals.index(np.argmax(pred))]\n",
    "input_text[0]"
   ]
  },
  {
   "cell_type": "code",
   "execution_count": 185,
   "metadata": {
    "colab": {
     "base_uri": "https://localhost:8080/"
    },
    "id": "0AjbtM33ekzG",
    "outputId": "709ab730-b2b1-4487-ce30-c1d434f85e64"
   },
   "outputs": [
    {
     "name": "stdout",
     "output_type": "stream",
     "text": [
      "\u001b[1m1/1\u001b[0m \u001b[32m━━━━━━━━━━━━━━━━━━━━\u001b[0m\u001b[37m\u001b[0m \u001b[1m0s\u001b[0m 40ms/step\n",
      "\u001b[1m1/1\u001b[0m \u001b[32m━━━━━━━━━━━━━━━━━━━━\u001b[0m\u001b[37m\u001b[0m \u001b[1m0s\u001b[0m 40ms/step\n",
      "\u001b[1m1/1\u001b[0m \u001b[32m━━━━━━━━━━━━━━━━━━━━\u001b[0m\u001b[37m\u001b[0m \u001b[1m0s\u001b[0m 40ms/step\n",
      "\u001b[1m1/1\u001b[0m \u001b[32m━━━━━━━━━━━━━━━━━━━━\u001b[0m\u001b[37m\u001b[0m \u001b[1m0s\u001b[0m 42ms/step\n",
      "\u001b[1m1/1\u001b[0m \u001b[32m━━━━━━━━━━━━━━━━━━━━\u001b[0m\u001b[37m\u001b[0m \u001b[1m0s\u001b[0m 50ms/step\n",
      "\u001b[1m1/1\u001b[0m \u001b[32m━━━━━━━━━━━━━━━━━━━━\u001b[0m\u001b[37m\u001b[0m \u001b[1m0s\u001b[0m 45ms/step\n",
      "\u001b[1m1/1\u001b[0m \u001b[32m━━━━━━━━━━━━━━━━━━━━\u001b[0m\u001b[37m\u001b[0m \u001b[1m0s\u001b[0m 31ms/step\n",
      "\u001b[1m1/1\u001b[0m \u001b[32m━━━━━━━━━━━━━━━━━━━━\u001b[0m\u001b[37m\u001b[0m \u001b[1m0s\u001b[0m 33ms/step\n",
      "\u001b[1m1/1\u001b[0m \u001b[32m━━━━━━━━━━━━━━━━━━━━\u001b[0m\u001b[37m\u001b[0m \u001b[1m0s\u001b[0m 39ms/step\n",
      "\u001b[1m1/1\u001b[0m \u001b[32m━━━━━━━━━━━━━━━━━━━━\u001b[0m\u001b[37m\u001b[0m \u001b[1m0s\u001b[0m 40ms/step\n",
      "['Much more reproductive choice is now available to the ties seen gillespie is that influence that 1973 children reasons']\n"
     ]
    }
   ],
   "source": [
    "for i in range(10):\n",
    "  toks=tokenizer.texts_to_sequences(input_text)\n",
    "  ins=pad_sequences(toks,maxlen=seq_len-1)\n",
    "  input_tensor=tf.constant(ins)\n",
    "  pred=model.predict(input_tensor)\n",
    "  input_text[0]=input_text[0]+' '+keys[vals.index(np.argmax(pred))]\n",
    "\n",
    "print(input_text)"
   ]
  },
  {
   "cell_type": "code",
   "execution_count": 186,
   "metadata": {
    "colab": {
     "base_uri": "https://localhost:8080/"
    },
    "id": "KaBm737y7CD9",
    "outputId": "a216adf2-bae9-482f-d107-131559302fd8"
   },
   "outputs": [
    {
     "name": "stdout",
     "output_type": "stream",
     "text": [
      "reasons\n",
      "in\n",
      "be\n",
      "gillespie\n",
      "for\n"
     ]
    }
   ],
   "source": [
    "sort_pred=np.argsort(pred[0])\n",
    "pred_words=np.flip(sort_pred[-5:])\n",
    "for index in pred_words:\n",
    "  print(keys[vals.index(index)])"
   ]
  },
  {
   "cell_type": "code",
   "execution_count": null,
   "metadata": {},
   "outputs": [],
   "source": []
  }
 ],
 "metadata": {
  "accelerator": "GPU",
  "colab": {
   "collapsed_sections": [],
   "name": "Next_Word_Prediction.ipynb",
   "provenance": []
  },
  "kernelspec": {
   "display_name": "Python 3 (ipykernel)",
   "language": "python",
   "name": "python3"
  },
  "language_info": {
   "codemirror_mode": {
    "name": "ipython",
    "version": 3
   },
   "file_extension": ".py",
   "mimetype": "text/x-python",
   "name": "python",
   "nbconvert_exporter": "python",
   "pygments_lexer": "ipython3",
   "version": "3.11.7"
  }
 },
 "nbformat": 4,
 "nbformat_minor": 1
}
