{
 "cells": [
  {
   "cell_type": "code",
   "execution_count": 1,
   "id": "586a8826",
   "metadata": {},
   "outputs": [],
   "source": [
    "import pandas as pd"
   ]
  },
  {
   "cell_type": "code",
   "execution_count": 2,
   "id": "55a5057e",
   "metadata": {},
   "outputs": [],
   "source": [
    "datapath = 'C:/Users/user/Downloads/archive/RAW_us_deaths.csv'"
   ]
  },
  {
   "cell_type": "code",
   "execution_count": 3,
   "id": "dcb64bf0",
   "metadata": {},
   "outputs": [],
   "source": [
    "dataframe = pd.read_csv(datapath)"
   ]
  },
  {
   "cell_type": "code",
   "execution_count": 4,
   "id": "59952f4c",
   "metadata": {},
   "outputs": [
    {
     "data": {
      "text/html": [
       "<div>\n",
       "<style scoped>\n",
       "    .dataframe tbody tr th:only-of-type {\n",
       "        vertical-align: middle;\n",
       "    }\n",
       "\n",
       "    .dataframe tbody tr th {\n",
       "        vertical-align: top;\n",
       "    }\n",
       "\n",
       "    .dataframe thead th {\n",
       "        text-align: right;\n",
       "    }\n",
       "</style>\n",
       "<table border=\"1\" class=\"dataframe\">\n",
       "  <thead>\n",
       "    <tr style=\"text-align: right;\">\n",
       "      <th></th>\n",
       "      <th>Province_State</th>\n",
       "      <th>Admin2</th>\n",
       "      <th>UID</th>\n",
       "      <th>iso2</th>\n",
       "      <th>iso3</th>\n",
       "      <th>code3</th>\n",
       "      <th>FIPS</th>\n",
       "      <th>Country_Region</th>\n",
       "      <th>Lat</th>\n",
       "      <th>Long_</th>\n",
       "      <th>...</th>\n",
       "      <th>3/1/2023</th>\n",
       "      <th>3/2/2023</th>\n",
       "      <th>3/3/2023</th>\n",
       "      <th>3/4/2023</th>\n",
       "      <th>3/5/2023</th>\n",
       "      <th>3/6/2023</th>\n",
       "      <th>3/7/2023</th>\n",
       "      <th>3/8/2023</th>\n",
       "      <th>3/9/2023</th>\n",
       "      <th>cumulative_death</th>\n",
       "    </tr>\n",
       "  </thead>\n",
       "  <tbody>\n",
       "    <tr>\n",
       "      <th>0</th>\n",
       "      <td>Alabama</td>\n",
       "      <td>Autauga</td>\n",
       "      <td>84001001</td>\n",
       "      <td>US</td>\n",
       "      <td>USA</td>\n",
       "      <td>840</td>\n",
       "      <td>1001.0</td>\n",
       "      <td>US</td>\n",
       "      <td>32.539527</td>\n",
       "      <td>-86.644082</td>\n",
       "      <td>...</td>\n",
       "      <td>232</td>\n",
       "      <td>232</td>\n",
       "      <td>232</td>\n",
       "      <td>232</td>\n",
       "      <td>232</td>\n",
       "      <td>232</td>\n",
       "      <td>232</td>\n",
       "      <td>232</td>\n",
       "      <td>232</td>\n",
       "      <td>140585</td>\n",
       "    </tr>\n",
       "    <tr>\n",
       "      <th>1</th>\n",
       "      <td>Alabama</td>\n",
       "      <td>Baldwin</td>\n",
       "      <td>84001003</td>\n",
       "      <td>US</td>\n",
       "      <td>USA</td>\n",
       "      <td>840</td>\n",
       "      <td>1003.0</td>\n",
       "      <td>US</td>\n",
       "      <td>30.727750</td>\n",
       "      <td>-87.722071</td>\n",
       "      <td>...</td>\n",
       "      <td>726</td>\n",
       "      <td>726</td>\n",
       "      <td>726</td>\n",
       "      <td>726</td>\n",
       "      <td>726</td>\n",
       "      <td>726</td>\n",
       "      <td>726</td>\n",
       "      <td>727</td>\n",
       "      <td>727</td>\n",
       "      <td>446338</td>\n",
       "    </tr>\n",
       "    <tr>\n",
       "      <th>2</th>\n",
       "      <td>Alabama</td>\n",
       "      <td>Barbour</td>\n",
       "      <td>84001005</td>\n",
       "      <td>US</td>\n",
       "      <td>USA</td>\n",
       "      <td>840</td>\n",
       "      <td>1005.0</td>\n",
       "      <td>US</td>\n",
       "      <td>31.868263</td>\n",
       "      <td>-85.387129</td>\n",
       "      <td>...</td>\n",
       "      <td>103</td>\n",
       "      <td>103</td>\n",
       "      <td>103</td>\n",
       "      <td>103</td>\n",
       "      <td>103</td>\n",
       "      <td>103</td>\n",
       "      <td>103</td>\n",
       "      <td>103</td>\n",
       "      <td>103</td>\n",
       "      <td>67064</td>\n",
       "    </tr>\n",
       "    <tr>\n",
       "      <th>3</th>\n",
       "      <td>Alabama</td>\n",
       "      <td>Bibb</td>\n",
       "      <td>84001007</td>\n",
       "      <td>US</td>\n",
       "      <td>USA</td>\n",
       "      <td>840</td>\n",
       "      <td>1007.0</td>\n",
       "      <td>US</td>\n",
       "      <td>32.996421</td>\n",
       "      <td>-87.125115</td>\n",
       "      <td>...</td>\n",
       "      <td>109</td>\n",
       "      <td>109</td>\n",
       "      <td>109</td>\n",
       "      <td>109</td>\n",
       "      <td>109</td>\n",
       "      <td>109</td>\n",
       "      <td>109</td>\n",
       "      <td>109</td>\n",
       "      <td>109</td>\n",
       "      <td>73258</td>\n",
       "    </tr>\n",
       "    <tr>\n",
       "      <th>4</th>\n",
       "      <td>Alabama</td>\n",
       "      <td>Blount</td>\n",
       "      <td>84001009</td>\n",
       "      <td>US</td>\n",
       "      <td>USA</td>\n",
       "      <td>840</td>\n",
       "      <td>1009.0</td>\n",
       "      <td>US</td>\n",
       "      <td>33.982109</td>\n",
       "      <td>-86.567906</td>\n",
       "      <td>...</td>\n",
       "      <td>261</td>\n",
       "      <td>261</td>\n",
       "      <td>261</td>\n",
       "      <td>261</td>\n",
       "      <td>261</td>\n",
       "      <td>261</td>\n",
       "      <td>261</td>\n",
       "      <td>261</td>\n",
       "      <td>261</td>\n",
       "      <td>162349</td>\n",
       "    </tr>\n",
       "  </tbody>\n",
       "</table>\n",
       "<p>5 rows × 1156 columns</p>\n",
       "</div>"
      ],
      "text/plain": [
       "  Province_State   Admin2       UID iso2 iso3  code3    FIPS Country_Region  \\\n",
       "0        Alabama  Autauga  84001001   US  USA    840  1001.0             US   \n",
       "1        Alabama  Baldwin  84001003   US  USA    840  1003.0             US   \n",
       "2        Alabama  Barbour  84001005   US  USA    840  1005.0             US   \n",
       "3        Alabama     Bibb  84001007   US  USA    840  1007.0             US   \n",
       "4        Alabama   Blount  84001009   US  USA    840  1009.0             US   \n",
       "\n",
       "         Lat      Long_  ... 3/1/2023  3/2/2023  3/3/2023  3/4/2023  3/5/2023  \\\n",
       "0  32.539527 -86.644082  ...      232       232       232       232       232   \n",
       "1  30.727750 -87.722071  ...      726       726       726       726       726   \n",
       "2  31.868263 -85.387129  ...      103       103       103       103       103   \n",
       "3  32.996421 -87.125115  ...      109       109       109       109       109   \n",
       "4  33.982109 -86.567906  ...      261       261       261       261       261   \n",
       "\n",
       "   3/6/2023  3/7/2023  3/8/2023  3/9/2023  cumulative_death  \n",
       "0       232       232       232       232            140585  \n",
       "1       726       726       727       727            446338  \n",
       "2       103       103       103       103             67064  \n",
       "3       109       109       109       109             73258  \n",
       "4       261       261       261       261            162349  \n",
       "\n",
       "[5 rows x 1156 columns]"
      ]
     },
     "execution_count": 4,
     "metadata": {},
     "output_type": "execute_result"
    }
   ],
   "source": [
    "dataframe.head()"
   ]
  },
  {
   "cell_type": "code",
   "execution_count": 5,
   "id": "1498d19a",
   "metadata": {},
   "outputs": [
    {
     "data": {
      "text/plain": [
       "Index(['Province_State', 'Admin2', 'UID', 'iso2', 'iso3', 'code3', 'FIPS',\n",
       "       'Country_Region', 'Lat', 'Long_',\n",
       "       ...\n",
       "       '3/1/2023', '3/2/2023', '3/3/2023', '3/4/2023', '3/5/2023', '3/6/2023',\n",
       "       '3/7/2023', '3/8/2023', '3/9/2023', 'cumulative_death'],\n",
       "      dtype='object', length=1156)"
      ]
     },
     "execution_count": 5,
     "metadata": {},
     "output_type": "execute_result"
    }
   ],
   "source": [
    "dataframe.columns"
   ]
  },
  {
   "cell_type": "code",
   "execution_count": 6,
   "id": "ea84a1f6",
   "metadata": {},
   "outputs": [
    {
     "data": {
      "text/html": [
       "<div>\n",
       "<style scoped>\n",
       "    .dataframe tbody tr th:only-of-type {\n",
       "        vertical-align: middle;\n",
       "    }\n",
       "\n",
       "    .dataframe tbody tr th {\n",
       "        vertical-align: top;\n",
       "    }\n",
       "\n",
       "    .dataframe thead th {\n",
       "        text-align: right;\n",
       "    }\n",
       "</style>\n",
       "<table border=\"1\" class=\"dataframe\">\n",
       "  <thead>\n",
       "    <tr style=\"text-align: right;\">\n",
       "      <th></th>\n",
       "      <th>UID</th>\n",
       "      <th>code3</th>\n",
       "      <th>FIPS</th>\n",
       "      <th>Lat</th>\n",
       "      <th>Long_</th>\n",
       "      <th>Population</th>\n",
       "      <th>1/22/2020</th>\n",
       "      <th>1/23/2020</th>\n",
       "      <th>1/24/2020</th>\n",
       "      <th>1/25/2020</th>\n",
       "      <th>...</th>\n",
       "      <th>3/1/2023</th>\n",
       "      <th>3/2/2023</th>\n",
       "      <th>3/3/2023</th>\n",
       "      <th>3/4/2023</th>\n",
       "      <th>3/5/2023</th>\n",
       "      <th>3/6/2023</th>\n",
       "      <th>3/7/2023</th>\n",
       "      <th>3/8/2023</th>\n",
       "      <th>3/9/2023</th>\n",
       "      <th>cumulative_death</th>\n",
       "    </tr>\n",
       "  </thead>\n",
       "  <tbody>\n",
       "    <tr>\n",
       "      <th>count</th>\n",
       "      <td>3.342000e+03</td>\n",
       "      <td>3342.000000</td>\n",
       "      <td>3332.000000</td>\n",
       "      <td>3342.000000</td>\n",
       "      <td>3342.000000</td>\n",
       "      <td>3.342000e+03</td>\n",
       "      <td>3342.000000</td>\n",
       "      <td>3342.000000</td>\n",
       "      <td>3342.000000</td>\n",
       "      <td>3342.000000</td>\n",
       "      <td>...</td>\n",
       "      <td>3342.000000</td>\n",
       "      <td>3342.000000</td>\n",
       "      <td>3342.000000</td>\n",
       "      <td>3342.000000</td>\n",
       "      <td>3342.000000</td>\n",
       "      <td>3342.000000</td>\n",
       "      <td>3342.000000</td>\n",
       "      <td>3342.000000</td>\n",
       "      <td>3342.000000</td>\n",
       "      <td>3.342000e+03</td>\n",
       "    </tr>\n",
       "    <tr>\n",
       "      <th>mean</th>\n",
       "      <td>8.342992e+07</td>\n",
       "      <td>834.494913</td>\n",
       "      <td>33043.078932</td>\n",
       "      <td>36.721617</td>\n",
       "      <td>-88.642045</td>\n",
       "      <td>9.960357e+04</td>\n",
       "      <td>0.000299</td>\n",
       "      <td>0.000299</td>\n",
       "      <td>0.000299</td>\n",
       "      <td>0.000299</td>\n",
       "      <td>...</td>\n",
       "      <td>335.397068</td>\n",
       "      <td>335.624776</td>\n",
       "      <td>335.776481</td>\n",
       "      <td>335.778576</td>\n",
       "      <td>335.767205</td>\n",
       "      <td>335.781269</td>\n",
       "      <td>335.881508</td>\n",
       "      <td>336.099940</td>\n",
       "      <td>336.276481</td>\n",
       "      <td>2.136072e+05</td>\n",
       "    </tr>\n",
       "    <tr>\n",
       "      <th>std</th>\n",
       "      <td>4.314076e+06</td>\n",
       "      <td>36.487378</td>\n",
       "      <td>18648.808931</td>\n",
       "      <td>9.079322</td>\n",
       "      <td>21.776287</td>\n",
       "      <td>3.241661e+05</td>\n",
       "      <td>0.017298</td>\n",
       "      <td>0.017298</td>\n",
       "      <td>0.017298</td>\n",
       "      <td>0.017298</td>\n",
       "      <td>...</td>\n",
       "      <td>1104.435933</td>\n",
       "      <td>1105.572242</td>\n",
       "      <td>1105.748480</td>\n",
       "      <td>1105.751727</td>\n",
       "      <td>1105.746239</td>\n",
       "      <td>1105.772895</td>\n",
       "      <td>1105.924446</td>\n",
       "      <td>1106.230834</td>\n",
       "      <td>1107.369648</td>\n",
       "      <td>7.553637e+05</td>\n",
       "    </tr>\n",
       "    <tr>\n",
       "      <th>min</th>\n",
       "      <td>1.600000e+01</td>\n",
       "      <td>16.000000</td>\n",
       "      <td>60.000000</td>\n",
       "      <td>-14.271000</td>\n",
       "      <td>-174.159600</td>\n",
       "      <td>0.000000e+00</td>\n",
       "      <td>0.000000</td>\n",
       "      <td>0.000000</td>\n",
       "      <td>0.000000</td>\n",
       "      <td>0.000000</td>\n",
       "      <td>...</td>\n",
       "      <td>0.000000</td>\n",
       "      <td>0.000000</td>\n",
       "      <td>0.000000</td>\n",
       "      <td>0.000000</td>\n",
       "      <td>0.000000</td>\n",
       "      <td>0.000000</td>\n",
       "      <td>0.000000</td>\n",
       "      <td>0.000000</td>\n",
       "      <td>0.000000</td>\n",
       "      <td>-1.530000e+02</td>\n",
       "    </tr>\n",
       "    <tr>\n",
       "      <th>25%</th>\n",
       "      <td>8.401811e+07</td>\n",
       "      <td>840.000000</td>\n",
       "      <td>19076.500000</td>\n",
       "      <td>33.896803</td>\n",
       "      <td>-97.803595</td>\n",
       "      <td>9.917250e+03</td>\n",
       "      <td>0.000000</td>\n",
       "      <td>0.000000</td>\n",
       "      <td>0.000000</td>\n",
       "      <td>0.000000</td>\n",
       "      <td>...</td>\n",
       "      <td>38.000000</td>\n",
       "      <td>38.000000</td>\n",
       "      <td>38.000000</td>\n",
       "      <td>38.000000</td>\n",
       "      <td>38.000000</td>\n",
       "      <td>38.000000</td>\n",
       "      <td>38.000000</td>\n",
       "      <td>39.000000</td>\n",
       "      <td>39.000000</td>\n",
       "      <td>2.238375e+04</td>\n",
       "    </tr>\n",
       "    <tr>\n",
       "      <th>50%</th>\n",
       "      <td>8.402921e+07</td>\n",
       "      <td>840.000000</td>\n",
       "      <td>31012.000000</td>\n",
       "      <td>38.005610</td>\n",
       "      <td>-89.488865</td>\n",
       "      <td>2.489150e+04</td>\n",
       "      <td>0.000000</td>\n",
       "      <td>0.000000</td>\n",
       "      <td>0.000000</td>\n",
       "      <td>0.000000</td>\n",
       "      <td>...</td>\n",
       "      <td>102.000000</td>\n",
       "      <td>102.000000</td>\n",
       "      <td>102.000000</td>\n",
       "      <td>102.000000</td>\n",
       "      <td>102.000000</td>\n",
       "      <td>102.000000</td>\n",
       "      <td>102.000000</td>\n",
       "      <td>102.000000</td>\n",
       "      <td>102.000000</td>\n",
       "      <td>6.023850e+04</td>\n",
       "    </tr>\n",
       "    <tr>\n",
       "      <th>75%</th>\n",
       "      <td>8.404612e+07</td>\n",
       "      <td>840.000000</td>\n",
       "      <td>47129.500000</td>\n",
       "      <td>41.579255</td>\n",
       "      <td>-82.313398</td>\n",
       "      <td>6.497525e+04</td>\n",
       "      <td>0.000000</td>\n",
       "      <td>0.000000</td>\n",
       "      <td>0.000000</td>\n",
       "      <td>0.000000</td>\n",
       "      <td>...</td>\n",
       "      <td>245.750000</td>\n",
       "      <td>245.750000</td>\n",
       "      <td>246.000000</td>\n",
       "      <td>246.000000</td>\n",
       "      <td>246.000000</td>\n",
       "      <td>246.000000</td>\n",
       "      <td>246.750000</td>\n",
       "      <td>246.750000</td>\n",
       "      <td>246.750000</td>\n",
       "      <td>1.488022e+05</td>\n",
       "    </tr>\n",
       "    <tr>\n",
       "      <th>max</th>\n",
       "      <td>8.410000e+07</td>\n",
       "      <td>850.000000</td>\n",
       "      <td>99999.000000</td>\n",
       "      <td>69.314792</td>\n",
       "      <td>145.673900</td>\n",
       "      <td>1.003911e+07</td>\n",
       "      <td>1.000000</td>\n",
       "      <td>1.000000</td>\n",
       "      <td>1.000000</td>\n",
       "      <td>1.000000</td>\n",
       "      <td>...</td>\n",
       "      <td>35366.000000</td>\n",
       "      <td>35453.000000</td>\n",
       "      <td>35453.000000</td>\n",
       "      <td>35453.000000</td>\n",
       "      <td>35453.000000</td>\n",
       "      <td>35453.000000</td>\n",
       "      <td>35453.000000</td>\n",
       "      <td>35453.000000</td>\n",
       "      <td>35545.000000</td>\n",
       "      <td>2.411400e+07</td>\n",
       "    </tr>\n",
       "  </tbody>\n",
       "</table>\n",
       "<p>8 rows × 1150 columns</p>\n",
       "</div>"
      ],
      "text/plain": [
       "                UID        code3          FIPS          Lat        Long_  \\\n",
       "count  3.342000e+03  3342.000000   3332.000000  3342.000000  3342.000000   \n",
       "mean   8.342992e+07   834.494913  33043.078932    36.721617   -88.642045   \n",
       "std    4.314076e+06    36.487378  18648.808931     9.079322    21.776287   \n",
       "min    1.600000e+01    16.000000     60.000000   -14.271000  -174.159600   \n",
       "25%    8.401811e+07   840.000000  19076.500000    33.896803   -97.803595   \n",
       "50%    8.402921e+07   840.000000  31012.000000    38.005610   -89.488865   \n",
       "75%    8.404612e+07   840.000000  47129.500000    41.579255   -82.313398   \n",
       "max    8.410000e+07   850.000000  99999.000000    69.314792   145.673900   \n",
       "\n",
       "         Population    1/22/2020    1/23/2020    1/24/2020    1/25/2020  ...  \\\n",
       "count  3.342000e+03  3342.000000  3342.000000  3342.000000  3342.000000  ...   \n",
       "mean   9.960357e+04     0.000299     0.000299     0.000299     0.000299  ...   \n",
       "std    3.241661e+05     0.017298     0.017298     0.017298     0.017298  ...   \n",
       "min    0.000000e+00     0.000000     0.000000     0.000000     0.000000  ...   \n",
       "25%    9.917250e+03     0.000000     0.000000     0.000000     0.000000  ...   \n",
       "50%    2.489150e+04     0.000000     0.000000     0.000000     0.000000  ...   \n",
       "75%    6.497525e+04     0.000000     0.000000     0.000000     0.000000  ...   \n",
       "max    1.003911e+07     1.000000     1.000000     1.000000     1.000000  ...   \n",
       "\n",
       "           3/1/2023      3/2/2023      3/3/2023      3/4/2023      3/5/2023  \\\n",
       "count   3342.000000   3342.000000   3342.000000   3342.000000   3342.000000   \n",
       "mean     335.397068    335.624776    335.776481    335.778576    335.767205   \n",
       "std     1104.435933   1105.572242   1105.748480   1105.751727   1105.746239   \n",
       "min        0.000000      0.000000      0.000000      0.000000      0.000000   \n",
       "25%       38.000000     38.000000     38.000000     38.000000     38.000000   \n",
       "50%      102.000000    102.000000    102.000000    102.000000    102.000000   \n",
       "75%      245.750000    245.750000    246.000000    246.000000    246.000000   \n",
       "max    35366.000000  35453.000000  35453.000000  35453.000000  35453.000000   \n",
       "\n",
       "           3/6/2023      3/7/2023      3/8/2023      3/9/2023  \\\n",
       "count   3342.000000   3342.000000   3342.000000   3342.000000   \n",
       "mean     335.781269    335.881508    336.099940    336.276481   \n",
       "std     1105.772895   1105.924446   1106.230834   1107.369648   \n",
       "min        0.000000      0.000000      0.000000      0.000000   \n",
       "25%       38.000000     38.000000     39.000000     39.000000   \n",
       "50%      102.000000    102.000000    102.000000    102.000000   \n",
       "75%      246.000000    246.750000    246.750000    246.750000   \n",
       "max    35453.000000  35453.000000  35453.000000  35545.000000   \n",
       "\n",
       "       cumulative_death  \n",
       "count      3.342000e+03  \n",
       "mean       2.136072e+05  \n",
       "std        7.553637e+05  \n",
       "min       -1.530000e+02  \n",
       "25%        2.238375e+04  \n",
       "50%        6.023850e+04  \n",
       "75%        1.488022e+05  \n",
       "max        2.411400e+07  \n",
       "\n",
       "[8 rows x 1150 columns]"
      ]
     },
     "execution_count": 6,
     "metadata": {},
     "output_type": "execute_result"
    }
   ],
   "source": [
    "dataframe.describe()"
   ]
  },
  {
   "cell_type": "code",
   "execution_count": 7,
   "id": "0c32eb51",
   "metadata": {},
   "outputs": [],
   "source": [
    "dataframe.rename(columns={'3/9/2023': 'target','3/1/2023':'date1','3/2/2023':'date2','3/3/2023':'date3','3/4/2023':'date4','3/5/2023':'date5','3/6/2023':'date6','3/7/2023':'date7','3/8/2023':'date8'},inplace=True)"
   ]
  },
  {
   "cell_type": "code",
   "execution_count": 8,
   "id": "008e24f3",
   "metadata": {},
   "outputs": [],
   "source": [
    "import numpy as np"
   ]
  },
  {
   "cell_type": "code",
   "execution_count": 9,
   "id": "97a0614e",
   "metadata": {},
   "outputs": [
    {
     "data": {
      "text/plain": [
       "(3342, 1156)"
      ]
     },
     "execution_count": 9,
     "metadata": {},
     "output_type": "execute_result"
    }
   ],
   "source": [
    "dataframe.shape"
   ]
  },
  {
   "cell_type": "code",
   "execution_count": 10,
   "id": "20b0b671",
   "metadata": {},
   "outputs": [],
   "source": [
    "#The target variable is y\n",
    "y = dataframe.target"
   ]
  },
  {
   "cell_type": "code",
   "execution_count": 11,
   "id": "e01e47b0",
   "metadata": {},
   "outputs": [],
   "source": [
    "states_features = ['date1','date2','date3','date4','date5','date6','date7','date8']"
   ]
  },
  {
   "cell_type": "code",
   "execution_count": 12,
   "id": "2cdbc0b4",
   "metadata": {},
   "outputs": [],
   "source": [
    "X = dataframe[states_features]"
   ]
  },
  {
   "cell_type": "code",
   "execution_count": 13,
   "id": "34cfc257",
   "metadata": {},
   "outputs": [],
   "source": [
    "from sklearn.tree import DecisionTreeRegressor\n",
    "from sklearn.model_selection import train_test_split"
   ]
  },
  {
   "cell_type": "code",
   "execution_count": 14,
   "id": "ec214759",
   "metadata": {},
   "outputs": [],
   "source": [
    "train_X,val_X,train_y,val_y = train_test_split(X,y,random_state=1)"
   ]
  },
  {
   "cell_type": "code",
   "execution_count": 15,
   "id": "97eac4d4",
   "metadata": {},
   "outputs": [],
   "source": [
    "cmodel = DecisionTreeRegressor(random_state=1)"
   ]
  },
  {
   "cell_type": "code",
   "execution_count": 16,
   "id": "189c9ed1",
   "metadata": {
    "scrolled": true
   },
   "outputs": [
    {
     "data": {
      "text/html": [
       "<style>#sk-container-id-1 {color: black;background-color: white;}#sk-container-id-1 pre{padding: 0;}#sk-container-id-1 div.sk-toggleable {background-color: white;}#sk-container-id-1 label.sk-toggleable__label {cursor: pointer;display: block;width: 100%;margin-bottom: 0;padding: 0.3em;box-sizing: border-box;text-align: center;}#sk-container-id-1 label.sk-toggleable__label-arrow:before {content: \"▸\";float: left;margin-right: 0.25em;color: #696969;}#sk-container-id-1 label.sk-toggleable__label-arrow:hover:before {color: black;}#sk-container-id-1 div.sk-estimator:hover label.sk-toggleable__label-arrow:before {color: black;}#sk-container-id-1 div.sk-toggleable__content {max-height: 0;max-width: 0;overflow: hidden;text-align: left;background-color: #f0f8ff;}#sk-container-id-1 div.sk-toggleable__content pre {margin: 0.2em;color: black;border-radius: 0.25em;background-color: #f0f8ff;}#sk-container-id-1 input.sk-toggleable__control:checked~div.sk-toggleable__content {max-height: 200px;max-width: 100%;overflow: auto;}#sk-container-id-1 input.sk-toggleable__control:checked~label.sk-toggleable__label-arrow:before {content: \"▾\";}#sk-container-id-1 div.sk-estimator input.sk-toggleable__control:checked~label.sk-toggleable__label {background-color: #d4ebff;}#sk-container-id-1 div.sk-label input.sk-toggleable__control:checked~label.sk-toggleable__label {background-color: #d4ebff;}#sk-container-id-1 input.sk-hidden--visually {border: 0;clip: rect(1px 1px 1px 1px);clip: rect(1px, 1px, 1px, 1px);height: 1px;margin: -1px;overflow: hidden;padding: 0;position: absolute;width: 1px;}#sk-container-id-1 div.sk-estimator {font-family: monospace;background-color: #f0f8ff;border: 1px dotted black;border-radius: 0.25em;box-sizing: border-box;margin-bottom: 0.5em;}#sk-container-id-1 div.sk-estimator:hover {background-color: #d4ebff;}#sk-container-id-1 div.sk-parallel-item::after {content: \"\";width: 100%;border-bottom: 1px solid gray;flex-grow: 1;}#sk-container-id-1 div.sk-label:hover label.sk-toggleable__label {background-color: #d4ebff;}#sk-container-id-1 div.sk-serial::before {content: \"\";position: absolute;border-left: 1px solid gray;box-sizing: border-box;top: 0;bottom: 0;left: 50%;z-index: 0;}#sk-container-id-1 div.sk-serial {display: flex;flex-direction: column;align-items: center;background-color: white;padding-right: 0.2em;padding-left: 0.2em;position: relative;}#sk-container-id-1 div.sk-item {position: relative;z-index: 1;}#sk-container-id-1 div.sk-parallel {display: flex;align-items: stretch;justify-content: center;background-color: white;position: relative;}#sk-container-id-1 div.sk-item::before, #sk-container-id-1 div.sk-parallel-item::before {content: \"\";position: absolute;border-left: 1px solid gray;box-sizing: border-box;top: 0;bottom: 0;left: 50%;z-index: -1;}#sk-container-id-1 div.sk-parallel-item {display: flex;flex-direction: column;z-index: 1;position: relative;background-color: white;}#sk-container-id-1 div.sk-parallel-item:first-child::after {align-self: flex-end;width: 50%;}#sk-container-id-1 div.sk-parallel-item:last-child::after {align-self: flex-start;width: 50%;}#sk-container-id-1 div.sk-parallel-item:only-child::after {width: 0;}#sk-container-id-1 div.sk-dashed-wrapped {border: 1px dashed gray;margin: 0 0.4em 0.5em 0.4em;box-sizing: border-box;padding-bottom: 0.4em;background-color: white;}#sk-container-id-1 div.sk-label label {font-family: monospace;font-weight: bold;display: inline-block;line-height: 1.2em;}#sk-container-id-1 div.sk-label-container {text-align: center;}#sk-container-id-1 div.sk-container {/* jupyter's `normalize.less` sets `[hidden] { display: none; }` but bootstrap.min.css set `[hidden] { display: none !important; }` so we also need the `!important` here to be able to override the default hidden behavior on the sphinx rendered scikit-learn.org. See: https://github.com/scikit-learn/scikit-learn/issues/21755 */display: inline-block !important;position: relative;}#sk-container-id-1 div.sk-text-repr-fallback {display: none;}</style><div id=\"sk-container-id-1\" class=\"sk-top-container\"><div class=\"sk-text-repr-fallback\"><pre>DecisionTreeRegressor(random_state=1)</pre><b>In a Jupyter environment, please rerun this cell to show the HTML representation or trust the notebook. <br />On GitHub, the HTML representation is unable to render, please try loading this page with nbviewer.org.</b></div><div class=\"sk-container\" hidden><div class=\"sk-item\"><div class=\"sk-estimator sk-toggleable\"><input class=\"sk-toggleable__control sk-hidden--visually\" id=\"sk-estimator-id-1\" type=\"checkbox\" checked><label for=\"sk-estimator-id-1\" class=\"sk-toggleable__label sk-toggleable__label-arrow\">DecisionTreeRegressor</label><div class=\"sk-toggleable__content\"><pre>DecisionTreeRegressor(random_state=1)</pre></div></div></div></div></div>"
      ],
      "text/plain": [
       "DecisionTreeRegressor(random_state=1)"
      ]
     },
     "execution_count": 16,
     "metadata": {},
     "output_type": "execute_result"
    }
   ],
   "source": [
    "cmodel.fit(train_X,train_y)"
   ]
  },
  {
   "cell_type": "code",
   "execution_count": 17,
   "id": "69c8be10",
   "metadata": {},
   "outputs": [],
   "source": [
    "prediction = cmodel.predict(val_X)"
   ]
  },
  {
   "cell_type": "code",
   "execution_count": 18,
   "id": "0ec6d6dd",
   "metadata": {},
   "outputs": [
    {
     "data": {
      "text/plain": [
       "array([ 217., 1663.,  970., 1554.,    2.])"
      ]
     },
     "execution_count": 18,
     "metadata": {},
     "output_type": "execute_result"
    }
   ],
   "source": [
    "prediction[:5]"
   ]
  },
  {
   "cell_type": "code",
   "execution_count": 19,
   "id": "9829e2be",
   "metadata": {},
   "outputs": [],
   "source": [
    "from sklearn.metrics import mean_absolute_error"
   ]
  },
  {
   "cell_type": "code",
   "execution_count": 20,
   "id": "260b7df0",
   "metadata": {},
   "outputs": [
    {
     "data": {
      "text/plain": [
       "5.485166474939202"
      ]
     },
     "execution_count": 20,
     "metadata": {},
     "output_type": "execute_result"
    }
   ],
   "source": [
    "mae = mean_absolute_error(prediction,val_y)\n",
    "mae"
   ]
  },
  {
   "cell_type": "code",
   "execution_count": 21,
   "id": "5beb8245",
   "metadata": {},
   "outputs": [
    {
     "data": {
      "text/plain": [
       "0    232\n",
       "1    727\n",
       "2    103\n",
       "3    109\n",
       "4    261\n",
       "Name: target, dtype: int64"
      ]
     },
     "execution_count": 21,
     "metadata": {},
     "output_type": "execute_result"
    }
   ],
   "source": [
    "y.head(5)"
   ]
  },
  {
   "cell_type": "code",
   "execution_count": 22,
   "id": "de5b48df",
   "metadata": {},
   "outputs": [
    {
     "data": {
      "text/plain": [
       "array([ 217., 1663.,  970., 1554.,    2.])"
      ]
     },
     "execution_count": 22,
     "metadata": {},
     "output_type": "execute_result"
    }
   ],
   "source": [
    "prediction[:5]"
   ]
  },
  {
   "cell_type": "code",
   "execution_count": 23,
   "id": "ad23e8a2",
   "metadata": {},
   "outputs": [],
   "source": [
    "#"
   ]
  }
 ],
 "metadata": {
  "kernelspec": {
   "display_name": "Python 3 (ipykernel)",
   "language": "python",
   "name": "python3"
  },
  "language_info": {
   "codemirror_mode": {
    "name": "ipython",
    "version": 3
   },
   "file_extension": ".py",
   "mimetype": "text/x-python",
   "name": "python",
   "nbconvert_exporter": "python",
   "pygments_lexer": "ipython3",
   "version": "3.11.7"
  }
 },
 "nbformat": 4,
 "nbformat_minor": 5
}
