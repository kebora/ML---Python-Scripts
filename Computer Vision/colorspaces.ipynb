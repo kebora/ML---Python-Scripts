{
 "cells": [
  {
   "cell_type": "code",
   "execution_count": 10,
   "id": "39905f82",
   "metadata": {},
   "outputs": [],
   "source": [
    "import cv2"
   ]
  },
  {
   "cell_type": "code",
   "execution_count": 11,
   "id": "68f75198",
   "metadata": {},
   "outputs": [],
   "source": [
    "path = 'C:/Users/user/Downloads/lambo.jpg'"
   ]
  },
  {
   "cell_type": "code",
   "execution_count": 12,
   "id": "c8e3eefb",
   "metadata": {},
   "outputs": [],
   "source": [
    "img = cv2.imread(path)"
   ]
  },
  {
   "cell_type": "code",
   "execution_count": 13,
   "id": "94966201",
   "metadata": {},
   "outputs": [],
   "source": [
    "img_grayscale = cv2.cvtColor(img,cv2.COLOR_BGR2GRAY)"
   ]
  },
  {
   "cell_type": "code",
   "execution_count": 14,
   "id": "b61cdaf2",
   "metadata": {},
   "outputs": [],
   "source": [
    "cv2.imshow(\"Original\",img)\n",
    "cv2.imshow(\"Grayscale\",img_grayscale)\n",
    "\n",
    "if cv2.waitKey(0) & 0xff==27:\n",
    "    cv2.destroyAllWindows()"
   ]
  }
 ],
 "metadata": {
  "kernelspec": {
   "display_name": "Python 3 (ipykernel)",
   "language": "python",
   "name": "python3"
  },
  "language_info": {
   "codemirror_mode": {
    "name": "ipython",
    "version": 3
   },
   "file_extension": ".py",
   "mimetype": "text/x-python",
   "name": "python",
   "nbconvert_exporter": "python",
   "pygments_lexer": "ipython3",
   "version": "3.11.7"
  }
 },
 "nbformat": 4,
 "nbformat_minor": 5
}
