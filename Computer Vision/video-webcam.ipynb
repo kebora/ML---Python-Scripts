{
 "cells": [
  {
   "cell_type": "code",
   "execution_count": 2,
   "id": "039f21a4",
   "metadata": {},
   "outputs": [],
   "source": [
    "import cv2"
   ]
  },
  {
   "cell_type": "code",
   "execution_count": 3,
   "id": "2bb107c6",
   "metadata": {},
   "outputs": [],
   "source": [
    "path = 0"
   ]
  },
  {
   "cell_type": "code",
   "execution_count": 4,
   "id": "fafbc29b",
   "metadata": {},
   "outputs": [],
   "source": [
    "view = cv2.VideoCapture(path)"
   ]
  },
  {
   "cell_type": "code",
   "execution_count": 5,
   "id": "00f7ebb0",
   "metadata": {},
   "outputs": [],
   "source": [
    "cv2.waitKey(4)\n",
    "\n",
    "while(view.isOpened()):\n",
    "    ret,frame = view.read()\n",
    "    cv2.imshow(\"Video\",frame)\n",
    "    \n",
    "    if cv2.waitKey(1) & 0xff == ord('q'):\n",
    "        break\n",
    "        \n",
    "view.release()\n",
    "cv2.destroyAllWindows()"
   ]
  }
 ],
 "metadata": {
  "kernelspec": {
   "display_name": "Python 3 (ipykernel)",
   "language": "python",
   "name": "python3"
  },
  "language_info": {
   "codemirror_mode": {
    "name": "ipython",
    "version": 3
   },
   "file_extension": ".py",
   "mimetype": "text/x-python",
   "name": "python",
   "nbconvert_exporter": "python",
   "pygments_lexer": "ipython3",
   "version": "3.11.7"
  }
 },
 "nbformat": 4,
 "nbformat_minor": 5
}
