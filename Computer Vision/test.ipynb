{
 "cells": [
  {
   "cell_type": "code",
   "execution_count": 8,
   "id": "78e8cb9f",
   "metadata": {},
   "outputs": [],
   "source": [
    "import cv2"
   ]
  },
  {
   "cell_type": "code",
   "execution_count": 9,
   "id": "10b9b85b",
   "metadata": {},
   "outputs": [],
   "source": [
    "path = 'C:/Users/user/Downloads/lambo.jpg'"
   ]
  },
  {
   "cell_type": "code",
   "execution_count": 10,
   "id": "8663b248",
   "metadata": {},
   "outputs": [],
   "source": [
    "img = cv2.imread(path)"
   ]
  },
  {
   "cell_type": "code",
   "execution_count": 12,
   "id": "f4fa5f32",
   "metadata": {},
   "outputs": [],
   "source": [
    "# cv2.imshow(\"Image\",img)\n",
    "\n",
    "img_gray = cv2.cvtColor(img,cv2.COLOR_BGR2GRAY)\n",
    "\n",
    "cv2.imshow(\"Grayscale\",img_gray)\n",
    "\n",
    "if cv2.waitKey(0) & 0xff==27:\n",
    "    cv2.destroyAllWindows()"
   ]
  }
 ],
 "metadata": {
  "kernelspec": {
   "display_name": "Python 3 (ipykernel)",
   "language": "python",
   "name": "python3"
  },
  "language_info": {
   "codemirror_mode": {
    "name": "ipython",
    "version": 3
   },
   "file_extension": ".py",
   "mimetype": "text/x-python",
   "name": "python",
   "nbconvert_exporter": "python",
   "pygments_lexer": "ipython3",
   "version": "3.11.7"
  }
 },
 "nbformat": 4,
 "nbformat_minor": 5
}
